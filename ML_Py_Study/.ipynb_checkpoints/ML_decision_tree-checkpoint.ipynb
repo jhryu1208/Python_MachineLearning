{
 "cells": [
  {
   "cell_type": "code",
   "execution_count": 58,
   "metadata": {},
   "outputs": [],
   "source": [
    "import mglearn\n",
    "import graphviz\n",
    "import pandas as pd\n",
    "import numpy as np\n",
    "import os\n",
    "from matplotlib import pyplot as plt\n",
    "from sklearn.datasets import load_breast_cancer\n",
    "from sklearn.tree import DecisionTreeClassifier\n",
    "from sklearn.tree import DecisionTreeRegressor\n",
    "from sklearn.linear_model import LinearRegression\n",
    "from sklearn.model_selection import train_test_split"
   ]
  },
  {
   "cell_type": "markdown",
   "metadata": {},
   "source": [
    "---\n",
    "\n",
    "#### <u>결정 트리(Decision Tree)</u>"
   ]
  },
  {
   "cell_type": "markdown",
   "metadata": {},
   "source": [
    "- `분류`와 `회귀` 문제에 널리 사용하는 모델\n",
    "- 기본적으로 결정에 다다르기 위해 `예/아니오` 질문을 이어 나가며 학습한다.(스무고개와 유사)\n"
   ]
  },
  {
   "cell_type": "code",
   "execution_count": 2,
   "metadata": {
    "scrolled": true
   },
   "outputs": [
    {
     "data": {
      "image/png": "[encoded data removed]",
      "text/plain": [
       "<Figure size 432x288 with 1 Axes>"
      ]
     },
     "metadata": {
      "needs_background": "light"
     },
     "output_type": "display_data"
    }
   ],
   "source": [
    "mglearn.plots.plot_animal_tree()"
   ]
  },
  {
   "cell_type": "markdown",
   "metadata": {},
   "source": [
    "위 그림에서 \n",
    "- 트리의 `노드` : 질문이나 정답을 담은 네모 상자, 마지막 노드의 경우 `리프(leaf)`라 한다.\n",
    "- 트리의 `엣지` : 질문의 답과 다음 질문을 연결\n",
    "\n",
    "<br>\n",
    "\n",
    "쉽게 말하자면 위의 질문들을 이용해 네 개의 클래스를 구분하는 모델을 만든 것이다.<br>\n",
    "이런 모델을 직접 만드는 대신 `지도 학습 방식`으로 데이터로부터 학습할 수 있다."
   ]
  },
  {
   "cell_type": "markdown",
   "metadata": {},
   "source": [
    "---\n",
    "\n",
    "#### <u> 결정 트리 만들기</u>"
   ]
  },
  {
   "cell_type": "markdown",
   "metadata": {},
   "source": [
    "`결정 트리`를 학습한다는 것은 <u>정답에 가장 빨리 도달하는 예/아니오</u> 질문 목록을 학습한다는 의미이다.<br>머신러닝에서는 이런 질문들을 `테스트`라고 한다.\n",
    "\n",
    "<br>\n",
    "\n",
    "보통 데이터는 앞서의 동물 구분 예제와 같이 예/아니오 형태의 특성으로 구성되지 않고,<br> 다음의 데이터와 \n",
    "같이 `연속된 특성`으로 구성된다.<br>\n",
    "\n",
    "\n",
    "<img width=\"400\" alt=\"1\" src=\"https://user-images.githubusercontent.com/53929665/99179250-39cc5180-275f-11eb-96f7-cba664fa0faa.PNG\">\n"
   ]
  },
  {
   "cell_type": "markdown",
   "metadata": {},
   "source": [
    "<br>\n",
    "\n",
    "`연속적인 데이터`에 적용할 `테스트`는 <u><b>특성 i는 값 a보다 큰가?</b></u>와 같은 형태를 보인다.\n",
    "\n",
    "<br>\n",
    "\n",
    "트리를 만들 때의 알고리즘은 가능한 모든 `테스트`에서<br>타겟 값에 대하여 가장 많은 정보를 가진 것을 고른다.<br>즉, <u>모든 테스트(질문)에서 데이터를 가장 잘 나누는 테스트(질문)을 찾는 것</u>이다.\n",
    "\n",
    "<br>\n",
    "\n",
    "아래의 그림은 첫 번째로 선택된 `테스트`를 보여준다.<br>\n",
    "데이터셋을 x[1] = 0.06에서 수평으로 나누는 것이 가장 많은 정보를 포함한다.<br>\n",
    "즉 이 직선이 class 0와 class 1의 포인트를 가장 잘 나누는 것이다.\n",
    "\n",
    "<br>\n",
    "\n",
    "<img width=\"600\" alt=\"2\" src=\"https://user-images.githubusercontent.com/53929665/99179339-063df700-2760-11eb-8391-94102ef652c6.PNG\">\n",
    "\n",
    "<br>\n",
    "\n",
    "`루트 노트(root node)`라 불리는 맨 위의 노드는<br>class 0에 속한 포인트 50개와 class 1에 속한 포인트 50개를 모두 포함한 전체 데이터셋을 나타낸다.\n",
    "\n",
    "<br>\n",
    "\n",
    "첫 번째 분류가 두 class를 완벽하게 분류하지 못해서<br>\n",
    "아래 영역에는 아직 class 0에 속한 포인트가 들어 있고, 위 영역에는 class 1에 속한 포인트가 포함되어 있다.\n",
    "\n",
    "<br>\n",
    "\n",
    "이 두 영역에서 가장 좋은 `테스트`를 찾는 과정을 <b>반복</b>해서 모델을 더 정확하게 만들 수 있다.\n",
    "\n",
    "<br>\n",
    "\n",
    "<img width=\"600\" alt=\"3\" src=\"https://user-images.githubusercontent.com/53929665/99179340-076f2400-2760-11eb-90d5-95dfe454d80b.PNG\">\n",
    "\n",
    "<br>\n",
    "\n",
    "반복된 프로세스는 각 `노드(네모상자)`가 `테스트(질문)` 하나씩을 가진 `결정 트리`를 만든다.<br>\n",
    "이는 계층적으로 영역을 분할해가는 알고리즘이라고 할 수 있다.<br>\n",
    "각 `테스트`는 하나의 특성에 대해서만 이루어지므로 <u>나누어진 영역은 항상 축에 평행하다.</u>\n",
    "\n",
    "<br>\n",
    "\n",
    "데이터를 분할하는 과정은 분할된 하나의 영역이 한 개의 타깃값을 가질 때까지 반복된다.<br>\n",
    "이때, <u>타깃 하나로만 이뤄진 리프노드</u>를 `순수 노드(pure node)`라고 한다.\n",
    "\n",
    "<br>"
   ]
  },
  {
   "cell_type": "markdown",
   "metadata": {},
   "source": [
    "<u>새로운 데이터 포인트에 대한 예측</u>은<br>\n",
    "주어진 데이터 포인트가 특성을 분할한 영역들 중 어디에 놓이는지를 확인하면 된다. \n",
    "\n",
    "\n",
    "같은 방법으로 `회귀 문제`에도 트리를 사용 가능하다.<br>\n",
    "예측을 하려면 각 노드의 테스트 결과에 따라 트리를 탐색해나가고<br> \n",
    "새로운 데이터 포인트에 해당되는 리프 노드를 찾는다.<br>\n",
    "\n",
    "\n",
    "<u>찾은 리프 노드의 훈련 데이터 `평균 값`이 이 데이터 포인트의 출력</u>이 된다."
   ]
  },
  {
   "cell_type": "markdown",
   "metadata": {},
   "source": [
    "---\n",
    "\n",
    "#### <u>결정 트리의 복잡도 제어하기</u>"
   ]
  },
  {
   "cell_type": "markdown",
   "metadata": {},
   "source": [
    "일반적으로 <b>모든</b> `리프 노드`가 `순수 노드`가 될 때까지 진행된다면\n",
    "- 모델이 매우 복잡해진다.\n",
    "- 훈련 데이터에 과대적합된다.<br>즉 `순수 노드`로만 이루어진 트리는 `훈련 세트`에 100%정확하게 맞는다는 의미이다.\n",
    "\n",
    "<br>\n",
    "\n",
    "아래의 그래프에서 `결정트리`과정에서 `과대적합`의 예시이다. class 0으로 결정된 영역이 class 1에 속한 포인트들로 둘러쌓인 것을 볼 수 있다. 그 반대 모습도 보인다. 이는 바람직한 결정 경계가 아니다.\n",
    "\n",
    "<img width=\"600\" alt=\"4\" src=\"https://user-images.githubusercontent.com/53929665/99179341-076f2400-2760-11eb-88c3-39bdf370ebbd.PNG\">"
   ]
  },
  {
   "cell_type": "markdown",
   "metadata": {},
   "source": [
    "`과대적합`을 막는 전략은 크게 두 가지이다.\n",
    "- `사전 가지치기(pre_pruning)` \n",
    "    - 트리 생성을 일찍 중단\n",
    "    - 트리의 최대 깊이를 제한\n",
    "    - 분할하기 위한 포인트의 최소 개수를 지정\n",
    "    \n",
    "    <br>\n",
    "    \n",
    "- `사후 가지치기(post-pruning)`\n",
    "    - 트리를 만든 후 포인트가 적은 노드를 삭제하거나 병합시키는 전략\n",
    "\n",
    "<br>\n",
    "\n",
    "`scikit-learn`에서 `결정 트리`는 `DecisionTreeRegressor`와 `DecisionTreeClassifier`에 구현되어있다.<br>\n",
    "하지만, `scikit-learn`에서는 `사전 가지치기`만을 지원한다.\n",
    "\n",
    "<br>\n",
    "\n",
    "`유방암 데이터셋`을 이용해서 `사전 가지치기`의 효과를 확인해보자<br>\n",
    "기본값 설정으로 완전한 트리(모든 리프 노드가 순수 노드가 될 때까지 생성한 트리) 모델을 만들고,<br>\n",
    "random_state 옵션을 고정해 만들어진 트리를 같은 조건으로 비교할 것이다."
   ]
  },
  {
   "cell_type": "code",
   "execution_count": 15,
   "metadata": {},
   "outputs": [
    {
     "name": "stdout",
     "output_type": "stream",
     "text": [
      "훈련 세트 정확도: 1.000\n",
      "테스트 세트 정확도: 0.937\n"
     ]
    }
   ],
   "source": [
    "cancer = load_breast_cancer()\n",
    "X_train, X_test, y_train, y_test = train_test_split(\n",
    "    cancer.data, cancer.target, stratify=cancer.target, random_state=42)\n",
    "\n",
    "tree = DecisionTreeClassifier(random_state=0)\n",
    "tree.fit(X_train, y_train)\n",
    "\n",
    "print(\"훈련 세트 정확도: {:.3f}\".format(tree.score(X_train, y_train)))\n",
    "print(\"테스트 세트 정확도: {:.3f}\".format(tree.score(X_test, y_test)))"
   ]
  },
  {
   "cell_type": "markdown",
   "metadata": {},
   "source": [
    "모든 `리프 노드`가 `순수 노드`이므로 `훈련 세트`의 정확도는 100%이다.<br>\n",
    "즉 트리는 `훈련 세트`의 모든 레이블을 완벽하게 기억할 만큼 완벽하게 만들어졌다.<br>\n",
    "\n",
    "<br>\n",
    "\n",
    "결정 트리의 깊이를 제한하지 않으면 트리는 무한정 깊어지고 복잡해진다.<br>\n",
    "그래서 가지치기하지 않은 트리는 `과대적합`되기 쉽고 새로운 데이터에 잘 일반화되지 않는다.\n",
    "\n",
    "<br>\n",
    "\n",
    "이제 `사전 가지치기`를 트리에 적용해서 `훈련 세트`에 완전히 학습되기 전에 트리의 성장을 막아보자<br>\n",
    "`max_depth=4` 옵션을 주면 연속된 질문을 최대 4개로 제한한다.(즉 4번의 단계가 시행된다는 의미)<br>\n",
    "트리의 깊이를 제한하면 `훈련 세트`의 정확도를 떨어뜨리지만,<br>\n",
    "`과대적합`이 줄어들며, `테스트 세트`의 성능을 개선시킨다."
   ]
  },
  {
   "cell_type": "code",
   "execution_count": 29,
   "metadata": {},
   "outputs": [
    {
     "name": "stdout",
     "output_type": "stream",
     "text": [
      "훈련 세트 정확도: 0.988\n",
      "테스트 세트 정확도: 0.951\n"
     ]
    }
   ],
   "source": [
    "tree = DecisionTreeClassifier(max_depth=4, random_state=0)\n",
    "tree.fit(X_train, y_train)\n",
    "\n",
    "print(\"훈련 세트 정확도: {:.3f}\".format(tree.score(X_train, y_train)))\n",
    "print(\"테스트 세트 정확도: {:.3f}\".format(tree.score(X_test, y_test)))"
   ]
  },
  {
   "cell_type": "markdown",
   "metadata": {},
   "source": [
    "---\n",
    "\n",
    "#### 결정 트리 분석"
   ]
  },
  {
   "cell_type": "markdown",
   "metadata": {},
   "source": [
    "트리 모듈의 `export_graphviz` 함수를 이용해 트리를 시각화할 수 있다.<br>\n",
    "이 함수는 그래프 저장용 텍스트 파일 포맷인 `.dot`파일을 만든다.<br>\n",
    "각 노드에서 다수인 클래스를 색으로 나타내기 위해 옵션을 주고<br> 적절히 레이블되록 클래스 이름과 특성 이름을 매개변수로 전달한다."
   ]
  },
  {
   "cell_type": "code",
   "execution_count": 30,
   "metadata": {},
   "outputs": [],
   "source": [
    "from sklearn.tree import export_graphviz\n",
    "export_graphviz(tree, out_file=\"tree2.dot\", class_names=[\"악성\", \"양성\"],\n",
    "                feature_names=cancer.feature_names,\n",
    "                impurity=False, filled=True)"
   ]
  },
  {
   "cell_type": "code",
   "execution_count": 31,
   "metadata": {},
   "outputs": [
    {
     "data": {
      "image/svg+xml": [
       "<?xml version=\"1.0\" encoding=\"UTF-8\" standalone=\"no\"?>\r\n",
       "<!DOCTYPE svg PUBLIC \"-//W3C//DTD SVG 1.1//EN\"\r\n",
       " \"http://www.w3.org/Graphics/SVG/1.1/DTD/svg11.dtd\">\r\n",
       "<!-- Generated by graphviz version 2.38.0 (20140413.2041)\r\n",
       " -->\r\n",
       "<!-- Title: Tree Pages: 1 -->\r\n",
       "<svg width=\"997pt\" height=\"477pt\"\r\n",
       " viewBox=\"0.00 0.00 996.50 477.00\" xmlns=\"http://www.w3.org/2000/svg\" xmlns:xlink=\"http://www.w3.org/1999/xlink\">\r\n",
       "<g id=\"graph0\" class=\"graph\" transform=\"scale(1 1) rotate(0) translate(4 473)\">\r\n",
       "<title>Tree</title>\r\n",
       "<polygon fill=\"white\" stroke=\"none\" points=\"-4,4 -4,-473 992.5,-473 992.5,4 -4,4\"/>\r\n",
       "<!-- 0 -->\r\n",
       "<g id=\"node1\" class=\"node\"><title>0</title>\r\n",
       "<polygon fill=\"#afd7f4\" stroke=\"black\" points=\"614,-469 467,-469 467,-401 614,-401 614,-469\"/>\r\n",
       "<text text-anchor=\"middle\" x=\"540.5\" y=\"-453.8\" font-family=\"Times New Roman,serif\" font-size=\"14.00\">worst radius &lt;= 16.795</text>\r\n",
       "<text text-anchor=\"middle\" x=\"540.5\" y=\"-438.8\" font-family=\"Times New Roman,serif\" font-size=\"14.00\">samples = 426</text>\r\n",
       "<text text-anchor=\"middle\" x=\"540.5\" y=\"-423.8\" font-family=\"Times New Roman,serif\" font-size=\"14.00\">value = [159, 267]</text>\r\n",
       "<text text-anchor=\"middle\" x=\"540.5\" y=\"-408.8\" font-family=\"Times New Roman,serif\" font-size=\"14.00\">class = 양성</text>\r\n",
       "</g>\r\n",
       "<!-- 1 -->\r\n",
       "<g id=\"node2\" class=\"node\"><title>1</title>\r\n",
       "<polygon fill=\"#4ca6e8\" stroke=\"black\" points=\"541,-365 350,-365 350,-297 541,-297 541,-365\"/>\r\n",
       "<text text-anchor=\"middle\" x=\"445.5\" y=\"-349.8\" font-family=\"Times New Roman,serif\" font-size=\"14.00\">worst concave points &lt;= 0.136</text>\r\n",
       "<text text-anchor=\"middle\" x=\"445.5\" y=\"-334.8\" font-family=\"Times New Roman,serif\" font-size=\"14.00\">samples = 284</text>\r\n",
       "<text text-anchor=\"middle\" x=\"445.5\" y=\"-319.8\" font-family=\"Times New Roman,serif\" font-size=\"14.00\">value = [25, 259]</text>\r\n",
       "<text text-anchor=\"middle\" x=\"445.5\" y=\"-304.8\" font-family=\"Times New Roman,serif\" font-size=\"14.00\">class = 양성</text>\r\n",
       "</g>\r\n",
       "<!-- 0&#45;&gt;1 -->\r\n",
       "<g id=\"edge1\" class=\"edge\"><title>0&#45;&gt;1</title>\r\n",
       "<path fill=\"none\" stroke=\"black\" d=\"M509.656,-400.884C501.277,-391.887 492.106,-382.041 483.387,-372.678\"/>\r\n",
       "<polygon fill=\"black\" stroke=\"black\" points=\"485.891,-370.232 476.514,-365.299 480.768,-375.003 485.891,-370.232\"/>\r\n",
       "<text text-anchor=\"middle\" x=\"475.626\" y=\"-386.584\" font-family=\"Times New Roman,serif\" font-size=\"14.00\">True</text>\r\n",
       "</g>\r\n",
       "<!-- 14 -->\r\n",
       "<g id=\"node15\" class=\"node\"><title>14</title>\r\n",
       "<polygon fill=\"#e78945\" stroke=\"black\" points=\"705.5,-365 565.5,-365 565.5,-297 705.5,-297 705.5,-365\"/>\r\n",
       "<text text-anchor=\"middle\" x=\"635.5\" y=\"-349.8\" font-family=\"Times New Roman,serif\" font-size=\"14.00\">texture error &lt;= 0.473</text>\r\n",
       "<text text-anchor=\"middle\" x=\"635.5\" y=\"-334.8\" font-family=\"Times New Roman,serif\" font-size=\"14.00\">samples = 142</text>\r\n",
       "<text text-anchor=\"middle\" x=\"635.5\" y=\"-319.8\" font-family=\"Times New Roman,serif\" font-size=\"14.00\">value = [134, 8]</text>\r\n",
       "<text text-anchor=\"middle\" x=\"635.5\" y=\"-304.8\" font-family=\"Times New Roman,serif\" font-size=\"14.00\">class = 악성</text>\r\n",
       "</g>\r\n",
       "<!-- 0&#45;&gt;14 -->\r\n",
       "<g id=\"edge14\" class=\"edge\"><title>0&#45;&gt;14</title>\r\n",
       "<path fill=\"none\" stroke=\"black\" d=\"M571.344,-400.884C579.723,-391.887 588.894,-382.041 597.613,-372.678\"/>\r\n",
       "<polygon fill=\"black\" stroke=\"black\" points=\"600.232,-375.003 604.486,-365.299 595.109,-370.232 600.232,-375.003\"/>\r\n",
       "<text text-anchor=\"middle\" x=\"605.374\" y=\"-386.584\" font-family=\"Times New Roman,serif\" font-size=\"14.00\">False</text>\r\n",
       "</g>\r\n",
       "<!-- 2 -->\r\n",
       "<g id=\"node3\" class=\"node\"><title>2</title>\r\n",
       "<polygon fill=\"#3c9fe5\" stroke=\"black\" points=\"349.5,-261 213.5,-261 213.5,-193 349.5,-193 349.5,-261\"/>\r\n",
       "<text text-anchor=\"middle\" x=\"281.5\" y=\"-245.8\" font-family=\"Times New Roman,serif\" font-size=\"14.00\">radius error &lt;= 1.048</text>\r\n",
       "<text text-anchor=\"middle\" x=\"281.5\" y=\"-230.8\" font-family=\"Times New Roman,serif\" font-size=\"14.00\">samples = 252</text>\r\n",
       "<text text-anchor=\"middle\" x=\"281.5\" y=\"-215.8\" font-family=\"Times New Roman,serif\" font-size=\"14.00\">value = [4, 248]</text>\r\n",
       "<text text-anchor=\"middle\" x=\"281.5\" y=\"-200.8\" font-family=\"Times New Roman,serif\" font-size=\"14.00\">class = 양성</text>\r\n",
       "</g>\r\n",
       "<!-- 1&#45;&gt;2 -->\r\n",
       "<g id=\"edge2\" class=\"edge\"><title>1&#45;&gt;2</title>\r\n",
       "<path fill=\"none\" stroke=\"black\" d=\"M392.254,-296.884C376.708,-287.214 359.582,-276.563 343.542,-266.587\"/>\r\n",
       "<polygon fill=\"black\" stroke=\"black\" points=\"345.099,-263.434 334.759,-261.125 341.402,-269.378 345.099,-263.434\"/>\r\n",
       "</g>\r\n",
       "<!-- 7 -->\r\n",
       "<g id=\"node8\" class=\"node\"><title>7</title>\r\n",
       "<polygon fill=\"#f3c3a1\" stroke=\"black\" points=\"517.5,-261 373.5,-261 373.5,-193 517.5,-193 517.5,-261\"/>\r\n",
       "<text text-anchor=\"middle\" x=\"445.5\" y=\"-245.8\" font-family=\"Times New Roman,serif\" font-size=\"14.00\">worst texture &lt;= 25.62</text>\r\n",
       "<text text-anchor=\"middle\" x=\"445.5\" y=\"-230.8\" font-family=\"Times New Roman,serif\" font-size=\"14.00\">samples = 32</text>\r\n",
       "<text text-anchor=\"middle\" x=\"445.5\" y=\"-215.8\" font-family=\"Times New Roman,serif\" font-size=\"14.00\">value = [21, 11]</text>\r\n",
       "<text text-anchor=\"middle\" x=\"445.5\" y=\"-200.8\" font-family=\"Times New Roman,serif\" font-size=\"14.00\">class = 악성</text>\r\n",
       "</g>\r\n",
       "<!-- 1&#45;&gt;7 -->\r\n",
       "<g id=\"edge7\" class=\"edge\"><title>1&#45;&gt;7</title>\r\n",
       "<path fill=\"none\" stroke=\"black\" d=\"M445.5,-296.884C445.5,-288.778 445.5,-279.982 445.5,-271.472\"/>\r\n",
       "<polygon fill=\"black\" stroke=\"black\" points=\"449,-271.299 445.5,-261.299 442,-271.299 449,-271.299\"/>\r\n",
       "</g>\r\n",
       "<!-- 3 -->\r\n",
       "<g id=\"node4\" class=\"node\"><title>3</title>\r\n",
       "<polygon fill=\"#3b9ee5\" stroke=\"black\" points=\"218,-157 49,-157 49,-89 218,-89 218,-157\"/>\r\n",
       "<text text-anchor=\"middle\" x=\"133.5\" y=\"-141.8\" font-family=\"Times New Roman,serif\" font-size=\"14.00\">smoothness error &lt;= 0.003</text>\r\n",
       "<text text-anchor=\"middle\" x=\"133.5\" y=\"-126.8\" font-family=\"Times New Roman,serif\" font-size=\"14.00\">samples = 251</text>\r\n",
       "<text text-anchor=\"middle\" x=\"133.5\" y=\"-111.8\" font-family=\"Times New Roman,serif\" font-size=\"14.00\">value = [3, 248]</text>\r\n",
       "<text text-anchor=\"middle\" x=\"133.5\" y=\"-96.8\" font-family=\"Times New Roman,serif\" font-size=\"14.00\">class = 양성</text>\r\n",
       "</g>\r\n",
       "<!-- 2&#45;&gt;3 -->\r\n",
       "<g id=\"edge3\" class=\"edge\"><title>2&#45;&gt;3</title>\r\n",
       "<path fill=\"none\" stroke=\"black\" d=\"M233.449,-192.884C219.549,-183.304 204.251,-172.761 189.892,-162.864\"/>\r\n",
       "<polygon fill=\"black\" stroke=\"black\" points=\"191.783,-159.918 181.563,-157.125 187.811,-165.681 191.783,-159.918\"/>\r\n",
       "</g>\r\n",
       "<!-- 6 -->\r\n",
       "<g id=\"node7\" class=\"node\"><title>6</title>\r\n",
       "<polygon fill=\"#e58139\" stroke=\"black\" points=\"327,-149.5 236,-149.5 236,-96.5 327,-96.5 327,-149.5\"/>\r\n",
       "<text text-anchor=\"middle\" x=\"281.5\" y=\"-134.3\" font-family=\"Times New Roman,serif\" font-size=\"14.00\">samples = 1</text>\r\n",
       "<text text-anchor=\"middle\" x=\"281.5\" y=\"-119.3\" font-family=\"Times New Roman,serif\" font-size=\"14.00\">value = [1, 0]</text>\r\n",
       "<text text-anchor=\"middle\" x=\"281.5\" y=\"-104.3\" font-family=\"Times New Roman,serif\" font-size=\"14.00\">class = 악성</text>\r\n",
       "</g>\r\n",
       "<!-- 2&#45;&gt;6 -->\r\n",
       "<g id=\"edge6\" class=\"edge\"><title>2&#45;&gt;6</title>\r\n",
       "<path fill=\"none\" stroke=\"black\" d=\"M281.5,-192.884C281.5,-182.326 281.5,-170.597 281.5,-159.854\"/>\r\n",
       "<polygon fill=\"black\" stroke=\"black\" points=\"285,-159.52 281.5,-149.52 278,-159.52 285,-159.52\"/>\r\n",
       "</g>\r\n",
       "<!-- 4 -->\r\n",
       "<g id=\"node5\" class=\"node\"><title>4</title>\r\n",
       "<polygon fill=\"#7bbeee\" stroke=\"black\" points=\"91,-53 0,-53 0,-0 91,-0 91,-53\"/>\r\n",
       "<text text-anchor=\"middle\" x=\"45.5\" y=\"-37.8\" font-family=\"Times New Roman,serif\" font-size=\"14.00\">samples = 4</text>\r\n",
       "<text text-anchor=\"middle\" x=\"45.5\" y=\"-22.8\" font-family=\"Times New Roman,serif\" font-size=\"14.00\">value = [1, 3]</text>\r\n",
       "<text text-anchor=\"middle\" x=\"45.5\" y=\"-7.8\" font-family=\"Times New Roman,serif\" font-size=\"14.00\">class = 양성</text>\r\n",
       "</g>\r\n",
       "<!-- 3&#45;&gt;4 -->\r\n",
       "<g id=\"edge4\" class=\"edge\"><title>3&#45;&gt;4</title>\r\n",
       "<path fill=\"none\" stroke=\"black\" d=\"M102.722,-88.9485C94.2031,-79.8005 84.9554,-69.8697 76.4281,-60.7126\"/>\r\n",
       "<polygon fill=\"black\" stroke=\"black\" points=\"78.8428,-58.1698 69.4665,-53.2367 73.72,-62.9402 78.8428,-58.1698\"/>\r\n",
       "</g>\r\n",
       "<!-- 5 -->\r\n",
       "<g id=\"node6\" class=\"node\"><title>5</title>\r\n",
       "<polygon fill=\"#3b9ee5\" stroke=\"black\" points=\"213.5,-53 109.5,-53 109.5,-0 213.5,-0 213.5,-53\"/>\r\n",
       "<text text-anchor=\"middle\" x=\"161.5\" y=\"-37.8\" font-family=\"Times New Roman,serif\" font-size=\"14.00\">samples = 247</text>\r\n",
       "<text text-anchor=\"middle\" x=\"161.5\" y=\"-22.8\" font-family=\"Times New Roman,serif\" font-size=\"14.00\">value = [2, 245]</text>\r\n",
       "<text text-anchor=\"middle\" x=\"161.5\" y=\"-7.8\" font-family=\"Times New Roman,serif\" font-size=\"14.00\">class = 양성</text>\r\n",
       "</g>\r\n",
       "<!-- 3&#45;&gt;5 -->\r\n",
       "<g id=\"edge5\" class=\"edge\"><title>3&#45;&gt;5</title>\r\n",
       "<path fill=\"none\" stroke=\"black\" d=\"M143.293,-88.9485C145.787,-80.5323 148.477,-71.4536 151.004,-62.9243\"/>\r\n",
       "<polygon fill=\"black\" stroke=\"black\" points=\"154.389,-63.819 153.874,-53.2367 147.678,-61.8304 154.389,-63.819\"/>\r\n",
       "</g>\r\n",
       "<!-- 8 -->\r\n",
       "<g id=\"node9\" class=\"node\"><title>8</title>\r\n",
       "<polygon fill=\"#7bbeee\" stroke=\"black\" points=\"518,-157 345,-157 345,-89 518,-89 518,-157\"/>\r\n",
       "<text text-anchor=\"middle\" x=\"431.5\" y=\"-141.8\" font-family=\"Times New Roman,serif\" font-size=\"14.00\">worst smoothness &lt;= 0.179</text>\r\n",
       "<text text-anchor=\"middle\" x=\"431.5\" y=\"-126.8\" font-family=\"Times New Roman,serif\" font-size=\"14.00\">samples = 12</text>\r\n",
       "<text text-anchor=\"middle\" x=\"431.5\" y=\"-111.8\" font-family=\"Times New Roman,serif\" font-size=\"14.00\">value = [3, 9]</text>\r\n",
       "<text text-anchor=\"middle\" x=\"431.5\" y=\"-96.8\" font-family=\"Times New Roman,serif\" font-size=\"14.00\">class = 양성</text>\r\n",
       "</g>\r\n",
       "<!-- 7&#45;&gt;8 -->\r\n",
       "<g id=\"edge8\" class=\"edge\"><title>7&#45;&gt;8</title>\r\n",
       "<path fill=\"none\" stroke=\"black\" d=\"M440.955,-192.884C439.842,-184.778 438.635,-175.982 437.467,-167.472\"/>\r\n",
       "<polygon fill=\"black\" stroke=\"black\" points=\"440.898,-166.731 436.071,-157.299 433.963,-167.682 440.898,-166.731\"/>\r\n",
       "</g>\r\n",
       "<!-- 11 -->\r\n",
       "<g id=\"node12\" class=\"node\"><title>11</title>\r\n",
       "<polygon fill=\"#e88f4f\" stroke=\"black\" points=\"697,-157 536,-157 536,-89 697,-89 697,-157\"/>\r\n",
       "<text text-anchor=\"middle\" x=\"616.5\" y=\"-141.8\" font-family=\"Times New Roman,serif\" font-size=\"14.00\">worst symmetry &lt;= 0.268</text>\r\n",
       "<text text-anchor=\"middle\" x=\"616.5\" y=\"-126.8\" font-family=\"Times New Roman,serif\" font-size=\"14.00\">samples = 20</text>\r\n",
       "<text text-anchor=\"middle\" x=\"616.5\" y=\"-111.8\" font-family=\"Times New Roman,serif\" font-size=\"14.00\">value = [18, 2]</text>\r\n",
       "<text text-anchor=\"middle\" x=\"616.5\" y=\"-96.8\" font-family=\"Times New Roman,serif\" font-size=\"14.00\">class = 악성</text>\r\n",
       "</g>\r\n",
       "<!-- 7&#45;&gt;11 -->\r\n",
       "<g id=\"edge11\" class=\"edge\"><title>7&#45;&gt;11</title>\r\n",
       "<path fill=\"none\" stroke=\"black\" d=\"M501.019,-192.884C517.379,-183.125 535.416,-172.366 552.274,-162.31\"/>\r\n",
       "<polygon fill=\"black\" stroke=\"black\" points=\"554.172,-165.253 560.967,-157.125 550.586,-159.242 554.172,-165.253\"/>\r\n",
       "</g>\r\n",
       "<!-- 9 -->\r\n",
       "<g id=\"node10\" class=\"node\"><title>9</title>\r\n",
       "<polygon fill=\"#4fa8e8\" stroke=\"black\" points=\"371,-53 280,-53 280,-0 371,-0 371,-53\"/>\r\n",
       "<text text-anchor=\"middle\" x=\"325.5\" y=\"-37.8\" font-family=\"Times New Roman,serif\" font-size=\"14.00\">samples = 10</text>\r\n",
       "<text text-anchor=\"middle\" x=\"325.5\" y=\"-22.8\" font-family=\"Times New Roman,serif\" font-size=\"14.00\">value = [1, 9]</text>\r\n",
       "<text text-anchor=\"middle\" x=\"325.5\" y=\"-7.8\" font-family=\"Times New Roman,serif\" font-size=\"14.00\">class = 양성</text>\r\n",
       "</g>\r\n",
       "<!-- 8&#45;&gt;9 -->\r\n",
       "<g id=\"edge9\" class=\"edge\"><title>8&#45;&gt;9</title>\r\n",
       "<path fill=\"none\" stroke=\"black\" d=\"M394.426,-88.9485C383.96,-79.6175 372.58,-69.4722 362.139,-60.1641\"/>\r\n",
       "<polygon fill=\"black\" stroke=\"black\" points=\"364.162,-57.2788 354.369,-53.2367 359.504,-62.5038 364.162,-57.2788\"/>\r\n",
       "</g>\r\n",
       "<!-- 10 -->\r\n",
       "<g id=\"node11\" class=\"node\"><title>10</title>\r\n",
       "<polygon fill=\"#e58139\" stroke=\"black\" points=\"480,-53 389,-53 389,-0 480,-0 480,-53\"/>\r\n",
       "<text text-anchor=\"middle\" x=\"434.5\" y=\"-37.8\" font-family=\"Times New Roman,serif\" font-size=\"14.00\">samples = 2</text>\r\n",
       "<text text-anchor=\"middle\" x=\"434.5\" y=\"-22.8\" font-family=\"Times New Roman,serif\" font-size=\"14.00\">value = [2, 0]</text>\r\n",
       "<text text-anchor=\"middle\" x=\"434.5\" y=\"-7.8\" font-family=\"Times New Roman,serif\" font-size=\"14.00\">class = 악성</text>\r\n",
       "</g>\r\n",
       "<!-- 8&#45;&gt;10 -->\r\n",
       "<g id=\"edge10\" class=\"edge\"><title>8&#45;&gt;10</title>\r\n",
       "<path fill=\"none\" stroke=\"black\" d=\"M432.549,-88.9485C432.811,-80.7153 433.092,-71.848 433.358,-63.4814\"/>\r\n",
       "<polygon fill=\"black\" stroke=\"black\" points=\"436.864,-63.3428 433.683,-53.2367 429.867,-63.1206 436.864,-63.3428\"/>\r\n",
       "</g>\r\n",
       "<!-- 12 -->\r\n",
       "<g id=\"node13\" class=\"node\"><title>12</title>\r\n",
       "<polygon fill=\"#9ccef2\" stroke=\"black\" points=\"601,-53 510,-53 510,-0 601,-0 601,-53\"/>\r\n",
       "<text text-anchor=\"middle\" x=\"555.5\" y=\"-37.8\" font-family=\"Times New Roman,serif\" font-size=\"14.00\">samples = 3</text>\r\n",
       "<text text-anchor=\"middle\" x=\"555.5\" y=\"-22.8\" font-family=\"Times New Roman,serif\" font-size=\"14.00\">value = [1, 2]</text>\r\n",
       "<text text-anchor=\"middle\" x=\"555.5\" y=\"-7.8\" font-family=\"Times New Roman,serif\" font-size=\"14.00\">class = 양성</text>\r\n",
       "</g>\r\n",
       "<!-- 11&#45;&gt;12 -->\r\n",
       "<g id=\"edge12\" class=\"edge\"><title>11&#45;&gt;12</title>\r\n",
       "<path fill=\"none\" stroke=\"black\" d=\"M595.165,-88.9485C589.496,-80.1664 583.362,-70.6629 577.65,-61.815\"/>\r\n",
       "<polygon fill=\"black\" stroke=\"black\" points=\"580.477,-59.7402 572.113,-53.2367 574.596,-63.5365 580.477,-59.7402\"/>\r\n",
       "</g>\r\n",
       "<!-- 13 -->\r\n",
       "<g id=\"node14\" class=\"node\"><title>13</title>\r\n",
       "<polygon fill=\"#e58139\" stroke=\"black\" points=\"717.5,-53 619.5,-53 619.5,-0 717.5,-0 717.5,-53\"/>\r\n",
       "<text text-anchor=\"middle\" x=\"668.5\" y=\"-37.8\" font-family=\"Times New Roman,serif\" font-size=\"14.00\">samples = 17</text>\r\n",
       "<text text-anchor=\"middle\" x=\"668.5\" y=\"-22.8\" font-family=\"Times New Roman,serif\" font-size=\"14.00\">value = [17, 0]</text>\r\n",
       "<text text-anchor=\"middle\" x=\"668.5\" y=\"-7.8\" font-family=\"Times New Roman,serif\" font-size=\"14.00\">class = 악성</text>\r\n",
       "</g>\r\n",
       "<!-- 11&#45;&gt;13 -->\r\n",
       "<g id=\"edge13\" class=\"edge\"><title>11&#45;&gt;13</title>\r\n",
       "<path fill=\"none\" stroke=\"black\" d=\"M634.687,-88.9485C639.469,-80.2579 644.64,-70.8608 649.465,-62.0917\"/>\r\n",
       "<polygon fill=\"black\" stroke=\"black\" points=\"652.583,-63.6853 654.338,-53.2367 646.451,-60.3105 652.583,-63.6853\"/>\r\n",
       "</g>\r\n",
       "<!-- 15 -->\r\n",
       "<g id=\"node16\" class=\"node\"><title>15</title>\r\n",
       "<polygon fill=\"#399de5\" stroke=\"black\" points=\"681,-253.5 590,-253.5 590,-200.5 681,-200.5 681,-253.5\"/>\r\n",
       "<text text-anchor=\"middle\" x=\"635.5\" y=\"-238.3\" font-family=\"Times New Roman,serif\" font-size=\"14.00\">samples = 5</text>\r\n",
       "<text text-anchor=\"middle\" x=\"635.5\" y=\"-223.3\" font-family=\"Times New Roman,serif\" font-size=\"14.00\">value = [0, 5]</text>\r\n",
       "<text text-anchor=\"middle\" x=\"635.5\" y=\"-208.3\" font-family=\"Times New Roman,serif\" font-size=\"14.00\">class = 양성</text>\r\n",
       "</g>\r\n",
       "<!-- 14&#45;&gt;15 -->\r\n",
       "<g id=\"edge15\" class=\"edge\"><title>14&#45;&gt;15</title>\r\n",
       "<path fill=\"none\" stroke=\"black\" d=\"M635.5,-296.884C635.5,-286.326 635.5,-274.597 635.5,-263.854\"/>\r\n",
       "<polygon fill=\"black\" stroke=\"black\" points=\"639,-263.52 635.5,-253.52 632,-263.52 639,-263.52\"/>\r\n",
       "</g>\r\n",
       "<!-- 16 -->\r\n",
       "<g id=\"node17\" class=\"node\"><title>16</title>\r\n",
       "<polygon fill=\"#e6843d\" stroke=\"black\" points=\"871,-261 710,-261 710,-193 871,-193 871,-261\"/>\r\n",
       "<text text-anchor=\"middle\" x=\"790.5\" y=\"-245.8\" font-family=\"Times New Roman,serif\" font-size=\"14.00\">worst concavity &lt;= 0.191</text>\r\n",
       "<text text-anchor=\"middle\" x=\"790.5\" y=\"-230.8\" font-family=\"Times New Roman,serif\" font-size=\"14.00\">samples = 137</text>\r\n",
       "<text text-anchor=\"middle\" x=\"790.5\" y=\"-215.8\" font-family=\"Times New Roman,serif\" font-size=\"14.00\">value = [134, 3]</text>\r\n",
       "<text text-anchor=\"middle\" x=\"790.5\" y=\"-200.8\" font-family=\"Times New Roman,serif\" font-size=\"14.00\">class = 악성</text>\r\n",
       "</g>\r\n",
       "<!-- 14&#45;&gt;16 -->\r\n",
       "<g id=\"edge16\" class=\"edge\"><title>14&#45;&gt;16</title>\r\n",
       "<path fill=\"none\" stroke=\"black\" d=\"M685.824,-296.884C700.381,-287.304 716.403,-276.761 731.441,-266.864\"/>\r\n",
       "<polygon fill=\"black\" stroke=\"black\" points=\"733.734,-269.546 740.163,-261.125 729.886,-263.698 733.734,-269.546\"/>\r\n",
       "</g>\r\n",
       "<!-- 17 -->\r\n",
       "<g id=\"node18\" class=\"node\"><title>17</title>\r\n",
       "<polygon fill=\"#bddef6\" stroke=\"black\" points=\"866,-157 715,-157 715,-89 866,-89 866,-157\"/>\r\n",
       "<text text-anchor=\"middle\" x=\"790.5\" y=\"-141.8\" font-family=\"Times New Roman,serif\" font-size=\"14.00\">worst texture &lt;= 30.975</text>\r\n",
       "<text text-anchor=\"middle\" x=\"790.5\" y=\"-126.8\" font-family=\"Times New Roman,serif\" font-size=\"14.00\">samples = 5</text>\r\n",
       "<text text-anchor=\"middle\" x=\"790.5\" y=\"-111.8\" font-family=\"Times New Roman,serif\" font-size=\"14.00\">value = [2, 3]</text>\r\n",
       "<text text-anchor=\"middle\" x=\"790.5\" y=\"-96.8\" font-family=\"Times New Roman,serif\" font-size=\"14.00\">class = 양성</text>\r\n",
       "</g>\r\n",
       "<!-- 16&#45;&gt;17 -->\r\n",
       "<g id=\"edge17\" class=\"edge\"><title>16&#45;&gt;17</title>\r\n",
       "<path fill=\"none\" stroke=\"black\" d=\"M790.5,-192.884C790.5,-184.778 790.5,-175.982 790.5,-167.472\"/>\r\n",
       "<polygon fill=\"black\" stroke=\"black\" points=\"794,-167.299 790.5,-157.299 787,-167.299 794,-167.299\"/>\r\n",
       "</g>\r\n",
       "<!-- 20 -->\r\n",
       "<g id=\"node21\" class=\"node\"><title>20</title>\r\n",
       "<polygon fill=\"#e58139\" stroke=\"black\" points=\"988.5,-149.5 884.5,-149.5 884.5,-96.5 988.5,-96.5 988.5,-149.5\"/>\r\n",
       "<text text-anchor=\"middle\" x=\"936.5\" y=\"-134.3\" font-family=\"Times New Roman,serif\" font-size=\"14.00\">samples = 132</text>\r\n",
       "<text text-anchor=\"middle\" x=\"936.5\" y=\"-119.3\" font-family=\"Times New Roman,serif\" font-size=\"14.00\">value = [132, 0]</text>\r\n",
       "<text text-anchor=\"middle\" x=\"936.5\" y=\"-104.3\" font-family=\"Times New Roman,serif\" font-size=\"14.00\">class = 악성</text>\r\n",
       "</g>\r\n",
       "<!-- 16&#45;&gt;20 -->\r\n",
       "<g id=\"edge20\" class=\"edge\"><title>16&#45;&gt;20</title>\r\n",
       "<path fill=\"none\" stroke=\"black\" d=\"M837.902,-192.884C855.061,-180.896 874.38,-167.399 891.341,-155.549\"/>\r\n",
       "<polygon fill=\"black\" stroke=\"black\" points=\"893.778,-158.116 899.971,-149.52 889.769,-152.378 893.778,-158.116\"/>\r\n",
       "</g>\r\n",
       "<!-- 18 -->\r\n",
       "<g id=\"node19\" class=\"node\"><title>18</title>\r\n",
       "<polygon fill=\"#399de5\" stroke=\"black\" points=\"833,-53 742,-53 742,-0 833,-0 833,-53\"/>\r\n",
       "<text text-anchor=\"middle\" x=\"787.5\" y=\"-37.8\" font-family=\"Times New Roman,serif\" font-size=\"14.00\">samples = 3</text>\r\n",
       "<text text-anchor=\"middle\" x=\"787.5\" y=\"-22.8\" font-family=\"Times New Roman,serif\" font-size=\"14.00\">value = [0, 3]</text>\r\n",
       "<text text-anchor=\"middle\" x=\"787.5\" y=\"-7.8\" font-family=\"Times New Roman,serif\" font-size=\"14.00\">class = 양성</text>\r\n",
       "</g>\r\n",
       "<!-- 17&#45;&gt;18 -->\r\n",
       "<g id=\"edge18\" class=\"edge\"><title>17&#45;&gt;18</title>\r\n",
       "<path fill=\"none\" stroke=\"black\" d=\"M789.451,-88.9485C789.189,-80.7153 788.908,-71.848 788.642,-63.4814\"/>\r\n",
       "<polygon fill=\"black\" stroke=\"black\" points=\"792.133,-63.1206 788.317,-53.2367 785.136,-63.3428 792.133,-63.1206\"/>\r\n",
       "</g>\r\n",
       "<!-- 19 -->\r\n",
       "<g id=\"node20\" class=\"node\"><title>19</title>\r\n",
       "<polygon fill=\"#e58139\" stroke=\"black\" points=\"942,-53 851,-53 851,-0 942,-0 942,-53\"/>\r\n",
       "<text text-anchor=\"middle\" x=\"896.5\" y=\"-37.8\" font-family=\"Times New Roman,serif\" font-size=\"14.00\">samples = 2</text>\r\n",
       "<text text-anchor=\"middle\" x=\"896.5\" y=\"-22.8\" font-family=\"Times New Roman,serif\" font-size=\"14.00\">value = [2, 0]</text>\r\n",
       "<text text-anchor=\"middle\" x=\"896.5\" y=\"-7.8\" font-family=\"Times New Roman,serif\" font-size=\"14.00\">class = 악성</text>\r\n",
       "</g>\r\n",
       "<!-- 17&#45;&gt;19 -->\r\n",
       "<g id=\"edge19\" class=\"edge\"><title>17&#45;&gt;19</title>\r\n",
       "<path fill=\"none\" stroke=\"black\" d=\"M827.574,-88.9485C838.04,-79.6175 849.42,-69.4722 859.861,-60.1641\"/>\r\n",
       "<polygon fill=\"black\" stroke=\"black\" points=\"862.496,-62.5038 867.631,-53.2367 857.838,-57.2788 862.496,-62.5038\"/>\r\n",
       "</g>\r\n",
       "</g>\r\n",
       "</svg>\r\n"
      ],
      "text/plain": [
       "<graphviz.files.Source at 0x25cdcf6f280>"
      ]
     },
     "metadata": {},
     "output_type": "display_data"
    }
   ],
   "source": [
    "with open(\"tree.dot\", encoding='UTF-8') as f:\n",
    "    dot_graph = f.read()\n",
    "display(graphviz.Source(dot_graph))"
   ]
  },
  {
   "cell_type": "markdown",
   "metadata": {},
   "source": [
    "그러나 여기서 보듯이 깊이가 4만 되어도 트리는 매우 장황해진다.<br>\n",
    "트리가 더 깊어지면(10 정도의 깊이는 보통입니다) 한눈에 보기가 힘들어진다.<br>\n",
    "트리를 조사할 때는 많은 수의 데이터가 흐르는 경로를 찾아보면 좋다. \n",
    "\n",
    "<br>\n",
    "\n",
    "대부분의 양성 샘플은 왼쪽에서 두 번째 노드에 할당되고<br>나머지 `리프 노드` 대부분은 매우 적은 양의 샘플만 가지고 있다."
   ]
  },
  {
   "cell_type": "markdown",
   "metadata": {},
   "source": [
    "---\n",
    "\n",
    "#### <u>트리의 특성 중요도</u>"
   ]
  },
  {
   "cell_type": "markdown",
   "metadata": {},
   "source": [
    "전체 트리를 살펴보는 것은 어려울 수 있으므로,<br>\n",
    "대신 트리가 <u>어떻게 작동하는지 요약하는 속성</u>들을 사용할 수 있다.\n",
    "\n",
    "<br>\n",
    "\n",
    "가장 널리 사용되는 속성은 트리를 만드는 결정에<br>\n",
    "<u>각 특성이 얼마나 중요한지를 평가</u>하는 `특성 중요도(feature importance)`가 있다<br>\n",
    "이 값은 0과 1사이의 숫자이다.\n",
    "\n",
    "- `0` : 전혀 사용되지 않았다는 의미\n",
    "- `1` : 완벽하게 타깃 클래스를 예측했다는 의미\n",
    "- `특성 중요도`의 전체 합은 1이다."
   ]
  },
  {
   "cell_type": "code",
   "execution_count": 32,
   "metadata": {
    "scrolled": true
   },
   "outputs": [
    {
     "name": "stdout",
     "output_type": "stream",
     "text": [
      "특성 중요도:\n",
      "[0.         0.         0.         0.         0.         0.\n",
      " 0.         0.         0.         0.         0.01019737 0.04839825\n",
      " 0.         0.         0.0024156  0.         0.         0.\n",
      " 0.         0.         0.72682851 0.0458159  0.         0.\n",
      " 0.0141577  0.         0.018188   0.1221132  0.01188548 0.        ]\n"
     ]
    }
   ],
   "source": [
    "print(\"특성 중요도:\\n{}\".format(tree.feature_importances_))"
   ]
  },
  {
   "cell_type": "markdown",
   "metadata": {},
   "source": [
    "선형 모델의 계수를 시각화하는 것과 비슷한 방법으로 `특성 중요도`도 시각화할 수 있다."
   ]
  },
  {
   "cell_type": "code",
   "execution_count": 46,
   "metadata": {},
   "outputs": [
    {
     "data": {
      "image/png": "[encoded data removed]",
      "text/plain": [
       "<Figure size 432x288 with 1 Axes>"
      ]
     },
     "metadata": {
      "needs_background": "light"
     },
     "output_type": "display_data"
    }
   ],
   "source": [
    "def plot_feature_importances_cancer(model):\n",
    "    n_features = cancer.data.shape[1]\n",
    "    plt.barh(range(n_features), model.feature_importances_, align='center')\n",
    "    plt.yticks(np.arange(n_features), cancer.feature_names)\n",
    "    plt.xlabel(\"feature_importances\")\n",
    "    plt.ylabel(\"property\")\n",
    "    plt.ylim(-1, n_features)\n",
    "\n",
    "plot_feature_importances_cancer(tree)"
   ]
  },
  {
   "cell_type": "markdown",
   "metadata": {},
   "source": [
    "첫 번째 노드에서 사용한 특성(`“worst radius”`)이 가장 중요한 특성으로 나타낸다.<br>\n",
    "이 그래프는 첫 번째 노드에서 두 클래스를 꽤 잘 나누고 있다는 것을 의미해주고 있다.\n",
    "\n",
    "<br>\n",
    "\n",
    "그러나 어떤 특성의 `feature_importance_` 값이 낮다고 해서<br>\n",
    "이 특성이 유용하지 않다는 뜻이 아니다.<br>\n",
    "<u>단지 트리가 그 특성을 선택하지 않았을 뿐</u>이며 다른 특성이 동일한 정보를 지니고 있어서일 수 있습니다.\n",
    "\n",
    "<br>\n",
    "\n",
    "또한, `선형 모델`의 `계수`와 달리,<br>\n",
    "`특성 중요도`는 항상 <b>양수</b>이며 특성이 어떤 클래스를 지지하는지 알 수 없다.<br>\n",
    "즉 위에서는 `worst radius`가 중요하다고 하지만,<br>\n",
    "높은 반지름이 양성을 의미하는지 악성을 의미하는지 알 수 없다.<br>\n",
    "이는 `특성`과 `클래스`사이에 간단한 관계가 없을 수 있음을 의미한다."
   ]
  },
  {
   "cell_type": "code",
   "execution_count": 47,
   "metadata": {},
   "outputs": [
    {
     "name": "stdout",
     "output_type": "stream",
     "text": [
      "Feature importances: [0. 1.]\n"
     ]
    },
    {
     "data": {
      "image/svg+xml": [
       "<?xml version=\"1.0\" encoding=\"UTF-8\" standalone=\"no\"?>\r\n",
       "<!DOCTYPE svg PUBLIC \"-//W3C//DTD SVG 1.1//EN\"\r\n",
       " \"http://www.w3.org/Graphics/SVG/1.1/DTD/svg11.dtd\">\r\n",
       "<!-- Generated by graphviz version 2.38.0 (20140413.2041)\r\n",
       " -->\r\n",
       "<!-- Title: Tree Pages: 1 -->\r\n",
       "<svg width=\"283pt\" height=\"224pt\"\r\n",
       " viewBox=\"0.00 0.00 283.00 224.00\" xmlns=\"http://www.w3.org/2000/svg\" xmlns:xlink=\"http://www.w3.org/1999/xlink\">\r\n",
       "<g id=\"graph0\" class=\"graph\" transform=\"scale(1 1) rotate(0) translate(4 220)\">\r\n",
       "<title>Tree</title>\r\n",
       "<polygon fill=\"white\" stroke=\"none\" points=\"-4,4 -4,-220 279,-220 279,4 -4,4\"/>\r\n",
       "<!-- 0 -->\r\n",
       "<g id=\"node1\" class=\"node\"><title>0</title>\r\n",
       "<polygon fill=\"#ffffff\" stroke=\"black\" points=\"160,-216 56,-216 56,-163 160,-163 160,-216\"/>\r\n",
       "<text text-anchor=\"middle\" x=\"108\" y=\"-200.8\" font-family=\"Times New Roman,serif\" font-size=\"14.00\">X[1] &lt;= &#45;5.814</text>\r\n",
       "<text text-anchor=\"middle\" x=\"108\" y=\"-185.8\" font-family=\"Times New Roman,serif\" font-size=\"14.00\">samples = 100</text>\r\n",
       "<text text-anchor=\"middle\" x=\"108\" y=\"-170.8\" font-family=\"Times New Roman,serif\" font-size=\"14.00\">value = [50, 50]</text>\r\n",
       "</g>\r\n",
       "<!-- 1 -->\r\n",
       "<g id=\"node2\" class=\"node\"><title>1</title>\r\n",
       "<polygon fill=\"#e58139\" stroke=\"black\" points=\"98,-119.5 0,-119.5 0,-81.5 98,-81.5 98,-119.5\"/>\r\n",
       "<text text-anchor=\"middle\" x=\"49\" y=\"-104.3\" font-family=\"Times New Roman,serif\" font-size=\"14.00\">samples = 25</text>\r\n",
       "<text text-anchor=\"middle\" x=\"49\" y=\"-89.3\" font-family=\"Times New Roman,serif\" font-size=\"14.00\">value = [25, 0]</text>\r\n",
       "</g>\r\n",
       "<!-- 0&#45;&gt;1 -->\r\n",
       "<g id=\"edge1\" class=\"edge\"><title>0&#45;&gt;1</title>\r\n",
       "<path fill=\"none\" stroke=\"black\" d=\"M90.6172,-162.868C83.1609,-151.873 74.4545,-139.035 66.9379,-127.951\"/>\r\n",
       "<polygon fill=\"black\" stroke=\"black\" points=\"69.7209,-125.819 61.2114,-119.507 63.9274,-129.747 69.7209,-125.819\"/>\r\n",
       "<text text-anchor=\"middle\" x=\"56.5027\" y=\"-140.359\" font-family=\"Times New Roman,serif\" font-size=\"14.00\">True</text>\r\n",
       "</g>\r\n",
       "<!-- 2 -->\r\n",
       "<g id=\"node3\" class=\"node\"><title>2</title>\r\n",
       "<polygon fill=\"#9ccef2\" stroke=\"black\" points=\"220,-127 116,-127 116,-74 220,-74 220,-127\"/>\r\n",
       "<text text-anchor=\"middle\" x=\"168\" y=\"-111.8\" font-family=\"Times New Roman,serif\" font-size=\"14.00\">X[1] &lt;= 5.348</text>\r\n",
       "<text text-anchor=\"middle\" x=\"168\" y=\"-96.8\" font-family=\"Times New Roman,serif\" font-size=\"14.00\">samples = 75</text>\r\n",
       "<text text-anchor=\"middle\" x=\"168\" y=\"-81.8\" font-family=\"Times New Roman,serif\" font-size=\"14.00\">value = [25, 50]</text>\r\n",
       "</g>\r\n",
       "<!-- 0&#45;&gt;2 -->\r\n",
       "<g id=\"edge2\" class=\"edge\"><title>0&#45;&gt;2</title>\r\n",
       "<path fill=\"none\" stroke=\"black\" d=\"M125.677,-162.868C131.545,-154.359 138.174,-144.747 144.415,-135.698\"/>\r\n",
       "<polygon fill=\"black\" stroke=\"black\" points=\"147.445,-137.469 150.242,-127.25 141.683,-133.495 147.445,-137.469\"/>\r\n",
       "<text text-anchor=\"middle\" x=\"154.758\" y=\"-148.138\" font-family=\"Times New Roman,serif\" font-size=\"14.00\">False</text>\r\n",
       "</g>\r\n",
       "<!-- 3 -->\r\n",
       "<g id=\"node4\" class=\"node\"><title>3</title>\r\n",
       "<polygon fill=\"#399de5\" stroke=\"black\" points=\"159,-38 61,-38 61,-0 159,-0 159,-38\"/>\r\n",
       "<text text-anchor=\"middle\" x=\"110\" y=\"-22.8\" font-family=\"Times New Roman,serif\" font-size=\"14.00\">samples = 50</text>\r\n",
       "<text text-anchor=\"middle\" x=\"110\" y=\"-7.8\" font-family=\"Times New Roman,serif\" font-size=\"14.00\">value = [0, 50]</text>\r\n",
       "</g>\r\n",
       "<!-- 2&#45;&gt;3 -->\r\n",
       "<g id=\"edge3\" class=\"edge\"><title>2&#45;&gt;3</title>\r\n",
       "<path fill=\"none\" stroke=\"black\" d=\"M149.329,-73.9081C142.905,-65.1022 135.702,-55.2299 129.234,-46.3636\"/>\r\n",
       "<polygon fill=\"black\" stroke=\"black\" points=\"132.028,-44.2546 123.306,-38.2389 126.373,-48.3803 132.028,-44.2546\"/>\r\n",
       "</g>\r\n",
       "<!-- 4 -->\r\n",
       "<g id=\"node5\" class=\"node\"><title>4</title>\r\n",
       "<polygon fill=\"#e58139\" stroke=\"black\" points=\"275,-38 177,-38 177,-0 275,-0 275,-38\"/>\r\n",
       "<text text-anchor=\"middle\" x=\"226\" y=\"-22.8\" font-family=\"Times New Roman,serif\" font-size=\"14.00\">samples = 25</text>\r\n",
       "<text text-anchor=\"middle\" x=\"226\" y=\"-7.8\" font-family=\"Times New Roman,serif\" font-size=\"14.00\">value = [25, 0]</text>\r\n",
       "</g>\r\n",
       "<!-- 2&#45;&gt;4 -->\r\n",
       "<g id=\"edge4\" class=\"edge\"><title>2&#45;&gt;4</title>\r\n",
       "<path fill=\"none\" stroke=\"black\" d=\"M186.671,-73.9081C193.095,-65.1022 200.298,-55.2299 206.766,-46.3636\"/>\r\n",
       "<polygon fill=\"black\" stroke=\"black\" points=\"209.627,-48.3803 212.694,-38.2389 203.972,-44.2546 209.627,-48.3803\"/>\r\n",
       "</g>\r\n",
       "</g>\r\n",
       "</svg>\r\n"
      ],
      "text/plain": [
       "<graphviz.files.Source at 0x25cdd4d07f0>"
      ]
     },
     "metadata": {},
     "output_type": "display_data"
    },
    {
     "data": {
      "image/png": "[encoded data removed]",
      "text/plain": [
       "<Figure size 432x288 with 1 Axes>"
      ]
     },
     "metadata": {},
     "output_type": "display_data"
    }
   ],
   "source": [
    "tree = mglearn.plots.plot_tree_not_monotone()\n",
    "display(tree)"
   ]
  },
  {
   "cell_type": "markdown",
   "metadata": {},
   "source": [
    "아래의 그림은 `y축 특성`이 `클래스 레이블`과 복합적인 관계를 가지고 있는<br>\n",
    "결정 트리가 만든 2차원 데이터셋에서의 `결정 경계`이다.<br>\n",
    "그리고 위의 그림은 아래의 그림에 나타난 데이터로 학습한 `결정 트리`이다.\n",
    "\n",
    "<br>\n",
    "\n",
    "여기서도 `worst radius`처럼 `x[1]`과 출력 클래스와의 관계는 단순한 관계가 나타나 있지 않음을 보인다.<br>\n",
    "즉 “X[1] 값이 높으면 클래스 0이고 값이 낮으면 1”이라고(또는 그 반대로) 말할 수 없다는 것이다.\n",
    "\n",
    "<br>"
   ]
  },
  {
   "cell_type": "markdown",
   "metadata": {},
   "source": [
    "---\n",
    "\n",
    "#### <u>회귀 결정 트리(DecisionTreeRegression)</u>"
   ]
  },
  {
   "cell_type": "markdown",
   "metadata": {},
   "source": [
    "`DecisionTreeRegression`로 구현된 `회귀 결정 트리`에서도<br>\n",
    "`결정 트리(DecisionTreeClassifiaction)`와 비슷하게 적용된다.<br>\n",
    "하지만 `회귀`를 위한 `트리`를 사용하고 싶을 때는 짚고 가야할 한가지의 특별한 속성이 있다.\n",
    "\n",
    "<br>\n",
    "\n",
    "<b>(Point!!)</b><br>\n",
    "`DecisionTreeRegressor`(그리고 모든 다른 트리 기반 회귀 모델)는<br>\n",
    "`외삽(extrapolation)`, 즉 <u>훈련 데이터의 범위 밖의 포인트에 대해 예측을 할 수 없습니다.</u><br>\n",
    "다음의 컴퓨터 메모리 가격 동향 데이터셋을 이용해 확인해보자."
   ]
  },
  {
   "cell_type": "code",
   "execution_count": 52,
   "metadata": {},
   "outputs": [
    {
     "data": {
      "text/plain": [
       "Text(0, 0.5, 'price ($/Mbyte)')"
      ]
     },
     "execution_count": 52,
     "metadata": {},
     "output_type": "execute_result"
    },
    {
     "data": {
      "image/png": "[encoded data removed]",
      "text/plain": [
       "<Figure size 432x288 with 1 Axes>"
      ]
     },
     "metadata": {
      "needs_background": "light"
     },
     "output_type": "display_data"
    }
   ],
   "source": [
    "ram_prices = pd.read_csv(os.path.join(mglearn.datasets.DATA_PATH, \"ram_price.csv\"))\n",
    "\n",
    "plt.semilogy(ram_prices.date, ram_prices.price)\n",
    "plt.xlabel(\"year\")\n",
    "plt.ylabel(\"price ($/Mbyte)\")"
   ]
  },
  {
   "cell_type": "markdown",
   "metadata": {},
   "source": [
    "`y` 축은 `로그 스케일`이다.<br>\n",
    "그래프를 `로그 스케일`로 그리면 약간의 굴곡을 제외하고는<br>\n",
    "<u>선형적으로 나타나서 비교적 예측하기가 쉬워진다.</u>\n",
    "\n",
    "<br>\n",
    "\n",
    "날짜 특성 하나만으로 2000년 전까지의 데이터로 부터 2000년 후의 가격을 예측해보자.<br>\n",
    "여기서는 두 모델 `DecisionTreeRegressor`와 `LinearRegression`을 비교하면서 볼 것이다."
   ]
  },
  {
   "cell_type": "code",
   "execution_count": 118,
   "metadata": {},
   "outputs": [],
   "source": [
    "# 2000년 이전을 훈련 데이터로, 2000년 이후를 테스트 데이터로 만듭니다.\n",
    "data_train = ram_prices[ram_prices.date < 2000] \n",
    "data_test = ram_prices[ram_prices.date >= 2000]\n",
    "\n",
    "# 가격 예측을 위해 날짜 특성만을 이용합니다.\n",
    "X_train = np.array(data_train['date']).reshape(-1,1)\n",
    "# 데이터와 타깃의 관계를 간단하게 만들기 위해 로그 스케일로 바꿉니다.\n",
    "y_train = np.log(data_train.price)\n",
    "\n",
    "tree = DecisionTreeRegressor().fit(X_train, y_train)\n",
    "linear_reg = LinearRegression().fit(X_train, y_train)\n",
    "\n",
    "# 예측은 전체 기간에 대해서 수행합니다.\n",
    "X_all = np.array(ram_prices['date']).reshape(-1,1)\n",
    "\n",
    "pred_tree = tree.predict(X_all)\n",
    "pred_lr = linear_reg.predict(X_all)\n",
    "\n",
    "# 예측한 값의 로그 스케일을 되돌립니다.\n",
    "price_tree = np.exp(pred_tree)\n",
    "price_lr = np.exp(pred_lr)"
   ]
  },
  {
   "cell_type": "code",
   "execution_count": 119,
   "metadata": {},
   "outputs": [
    {
     "data": {
      "text/plain": [
       "<matplotlib.legend.Legend at 0x25ce0718d90>"
      ]
     },
     "execution_count": 119,
     "metadata": {},
     "output_type": "execute_result"
    },
    {
     "data": {
      "image/png": "[encoded data removed]",
      "text/plain": [
       "<Figure size 1080x720 with 4 Axes>"
      ]
     },
     "metadata": {
      "needs_background": "light"
     },
     "output_type": "display_data"
    }
   ],
   "source": [
    "plt.figure(figsize=(15, 10))\n",
    "\n",
    "plt.subplot(2,2,1)\n",
    "plt.semilogy(data_train.date, data_train.price, label=\"Train Data\")\n",
    "plt.legend()\n",
    "\n",
    "plt.subplot(2,2,2)\n",
    "plt.semilogy(data_test.date, data_test.price, label=\"Test Data\")\n",
    "plt.legend()\n",
    "\n",
    "plt.subplot(2,2,3)\n",
    "plt.semilogy(ram_prices.date, price_tree, label=\"Tree Regression Predict\")\n",
    "plt.legend()\n",
    "\n",
    "plt.subplot(2,2,4)\n",
    "plt.semilogy(ram_prices.date, price_lr, label=\"Linear Regression Predict\")\n",
    "plt.legend()"
   ]
  },
  {
   "cell_type": "code",
   "execution_count": 120,
   "metadata": {},
   "outputs": [
    {
     "data": {
      "text/plain": [
       "<matplotlib.legend.Legend at 0x25ce0419e50>"
      ]
     },
     "execution_count": 120,
     "metadata": {},
     "output_type": "execute_result"
    },
    {
     "data": {
      "image/png": "[encoded data removed]",
      "text/plain": [
       "<Figure size 432x288 with 1 Axes>"
      ]
     },
     "metadata": {
      "needs_background": "light"
     },
     "output_type": "display_data"
    }
   ],
   "source": [
    "plt.semilogy(data_train.date, data_train.price, label=\"Train Data\")\n",
    "plt.semilogy(data_test.date, data_test.price, label=\"Test Data\")\n",
    "plt.semilogy(ram_prices.date, price_tree, label=\"Tree Regression Predict\")\n",
    "plt.semilogy(ram_prices.date, price_lr, label=\"Linear Regression Predict\")\n",
    "plt.legend()"
   ]
  },
  {
   "cell_type": "markdown",
   "metadata": {},
   "source": [
    "두 모델은 확연한 차이를 보인다.\n",
    "- `선형 모델`\n",
    "    - 직선으로 데이터가 근사하였다.\n",
    "    - 직선은 `훈련 데이터`와 `테스트 데이터`에 있는 미세한 굴곡을 매끈하게 근사하여<br>2000년 이후의 `테스트 데이터`를 꽤 정확하게 예측했다.\n",
    "    \n",
    "<br>\n",
    "\n",
    "- `트리 모델`\n",
    "    - 복잡도에 제한을 두지 않았기 때문에 `훈련 데이터`를 완벽하게 예측한다.\n",
    "    - 모델이 가진 데이터 범위 밖(2000년 이후)으로 나가면 단순히 마지막 포인트를 이용해 예측해버린다.\n",
    "    - `트리 모델`은 `훈련 데이터` 밖의 <u>새로운 데이터를 예측할 능력이 없다.</u>"
   ]
  },
  {
   "cell_type": "markdown",
   "metadata": {},
   "source": [
    "---\n",
    "\n",
    "#### <u>장단점과 매개변수</u>"
   ]
  },
  {
   "cell_type": "markdown",
   "metadata": {},
   "source": [
    "`결정 트리`에서 모델 복잡도를 조절하는 매개변수로는 `사전 가지치기` 매개변수가 있다.\n",
    "- `max_depth`, `max_leaf_nodes` 또는 `min_samples_leaf`을 이용해 `과대적합`을 막음\n",
    "    \n",
    "<br>\n",
    "\n",
    "`결정 트리`가 이전에 소개한 다른 알고리즘들보다 나은 점은 두 가지입니다\n",
    "- <b>장점</b>\n",
    "    - 만들어진 모델을 쉽게 시각화할 수 있고, 비전문가도 이해하기 쉽다.\n",
    "    - 데이터의 스케일에 구애받지 않는다.\n",
    "    - 각 특성이 개별적으로 처리되어있어 특성의 스케일이 달라도<br>특성의 정규화나 표준화같은 전처리 과정이 필요없다.\n",
    "    - 특히 특성의 스케일이 서로 다르거나, 이진 특성과 같은 연속적인 특성이 혼합되어 있을 때도 잘 작동한다.\n",
    "    \n",
    "<br>\n",
    "\n",
    "- <b>단점</b>\n",
    "    - `사전 가지치기`를 사용함에도 불구하고 `과대적합`되는 경향이 있어<br>일반화 성능이 좋지 않다."
   ]
  },
  {
   "cell_type": "markdown",
   "metadata": {},
   "source": [
    "---\n",
    "\n",
    "### References\n",
    "\n",
    "- 안드레아스 뮐러, 세라 가이도, 『파이썬 라이브러리를 활용한 머신러닝』, 박해선, 한빛미디어(2017)\n",
    "- https://tensorflow.blog/%ed%8c%8c%ec%9d%b4%ec%8d%ac-%eb%a8%b8%ec%8b%a0%eb%9f%ac%eb%8b%9d/2-3-3-%ec%84%a0%ed%98%95-%eb%aa%a8%eb%8d%b8/\n",
    "- https://kolikim.tistory.com/9"
   ]
  }
 ],
 "metadata": {
  "kernelspec": {
   "display_name": "Python 3",
   "language": "python",
   "name": "python3"
  },
  "language_info": {
   "codemirror_mode": {
    "name": "ipython",
    "version": 3
   },
   "file_extension": ".py",
   "mimetype": "text/x-python",
   "name": "python",
   "nbconvert_exporter": "python",
   "pygments_lexer": "ipython3",
   "version": "3.8.5"
  }
 },
 "nbformat": 4,
 "nbformat_minor": 4
}
