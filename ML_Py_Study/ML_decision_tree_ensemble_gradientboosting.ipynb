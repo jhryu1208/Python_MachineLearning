{
 "cells": [
  {
   "cell_type": "code",
   "execution_count": 2,
   "metadata": {},
   "outputs": [],
   "source": [
    "import mglearn\n",
    "import numpy as np\n",
    "from matplotlib import pyplot as plt\n",
    "from sklearn.ensemble import RandomForestClassifier\n",
    "from sklearn.ensemble import GradientBoostingClassifier\n",
    "from sklearn.datasets import make_moons\n",
    "from sklearn.model_selection import train_test_split\n",
    "from sklearn.datasets import load_breast_cancer"
   ]
  },
  {
   "cell_type": "markdown",
   "metadata": {},
   "source": [
    "---\n",
    "\n",
    "#### <u>앙상블(ensemble)</u>\n",
    "\n",
    "- 여러 머신러닝 모델을 연결하여 더 강력한 모델을 만드는 기법이다.\n",
    "- `분류`와 `회귀 문제`의 다양한 데이터셋에서 효과적인 `앙상블 모델`\n",
    "    - `랜덤 포레스트(random forest)`\n",
    "    - `그래디언트 부스팅(gradient boosting)`\n",
    "\n",
    "<br>"
   ]
  },
  {
   "cell_type": "markdown",
   "metadata": {},
   "source": [
    "---\n",
    "\n",
    "#### <u>그래디언트 부스팅 회귀 트리(Gradient Boosting Regression Tree)</u>"
   ]
  },
  {
   "cell_type": "markdown",
   "metadata": {},
   "source": [
    "- 여러 개의 결정 트리를 묶어 강력한 모델을 만드는 또 다른 `앙상블` 방법이다.\n",
    "- 이름은 회귀지만 `회귀`와 `분류`에 모두 사용할 수 있다.\n",
    "- `랜덤 포레스트`와 달리<br> `그래디언트 부스팅`은 이전 <u>트리의 오차를 보완하는 방식</u>을 이용해 <u>순차적</u>으로 `트리`를 만든다.<br>또한, <u>무작위성을 가지고 있지 않다. 대신 `사전 가지치기`가 사용</u>된다.\n",
    "- 또한, `랜덤 포레스트`보다는 매개변수 설정에 조금 더 민감하지만,<br>잘 조정하면 더 높은 정확도를 보여준다.\n",
    "\n",
    "<br>\n",
    "\n",
    "`그래디언트 부스팅`의 기본 아이디어는<br>\n",
    "`얕은 트리`와 같은 간단한 모델(`약한 학습기(weak learner)`)를 많이 연결하는 것이다.<br>\n",
    "따라서, 각각의 `트리`는 데이터의 일부에 대해서만 예측을 잘 수행 할 수 있어서<br>\n",
    "`트리`가 많이 추가될수록 성능이 좋아진다.\n",
    "\n",
    "<br>\n",
    "\n",
    "`그래디언트 부스팅`에서 중요한 매개변수는<br>\n",
    "<u>이전 트리의 오차를 얼마나 강하게 보정할 것인지를 제어</u>하는 `learning_rate`이다.<br>\n",
    "`learning_rate`가 크면 트리의 오차 보정을 강하게 하기 때문에 복잡한 모델을 생성한다.<br>\n",
    "또한, `n_estimators`값을 키우면 `앙상블`에 트리가 더 많이 추가 되어 모델의 복잡도가 커지고<br>\n",
    "훈련 세트에서의 실수를 바로 잡을 기회가 더 많아진다.\n",
    "\n",
    "<br>\n",
    "\n",
    "아래는 `유방암 데이터셋`을 이용해 `GradientBoostingClassifier`를 사용한 예이다.<br>\n",
    "기본값인 깊이가 3인 트리 100개와 `learning_rate` 0.1을 사용했다."
   ]
  },
  {
   "cell_type": "code",
   "execution_count": 4,
   "metadata": {},
   "outputs": [
    {
     "name": "stdout",
     "output_type": "stream",
     "text": [
      "훈련 세트 정확도: 1.000\n",
      "테스트 세트 정확도: 0.965\n"
     ]
    }
   ],
   "source": [
    "cancer = load_breast_cancer()\n",
    "\n",
    "X_train, X_test, y_train, y_test = train_test_split(\n",
    "    cancer.data, cancer.target, random_state=0)\n",
    "\n",
    "gbrt = GradientBoostingClassifier(random_state=0)\n",
    "gbrt.fit(X_train, y_train)\n",
    "\n",
    "print(\"훈련 세트 정확도: {:.3f}\".format(gbrt.score(X_train, y_train)))\n",
    "print(\"테스트 세트 정확도: {:.3f}\".format(gbrt.score(X_test, y_test)))"
   ]
  },
  {
   "cell_type": "markdown",
   "metadata": {},
   "source": [
    "`훈련 세트`의 정확도가 100%이므로 `과대적합`으로 추정된다.<br>\n",
    "`과대적합`을 막기 위해서 \n",
    "- `최대 깊이(max_depth)`를 줄이거나\n",
    "- `사전 가지치기`를 강하게 하거나\n",
    "- `학습률(learning_rate)`를 낮출 수 있다."
   ]
  },
  {
   "cell_type": "code",
   "execution_count": 5,
   "metadata": {
    "scrolled": true
   },
   "outputs": [
    {
     "name": "stdout",
     "output_type": "stream",
     "text": [
      "훈련 세트 정확도: 0.991\n",
      "테스트 세트 정확도: 0.972\n"
     ]
    }
   ],
   "source": [
    "# 최대깊이를 줄이는 경우\n",
    "gbrt = GradientBoostingClassifier(random_state=0, max_depth=1)\n",
    "gbrt.fit(X_train, y_train)\n",
    "\n",
    "print(\"훈련 세트 정확도: {:.3f}\".format(gbrt.score(X_train, y_train)))\n",
    "print(\"테스트 세트 정확도: {:.3f}\".format(gbrt.score(X_test, y_test)))"
   ]
  },
  {
   "cell_type": "code",
   "execution_count": 7,
   "metadata": {
    "scrolled": true
   },
   "outputs": [
    {
     "name": "stdout",
     "output_type": "stream",
     "text": [
      "훈련 세트 정확도: 0.988\n",
      "테스트 세트 정확도: 0.965\n"
     ]
    }
   ],
   "source": [
    "# 학습률을 낮추는 경우\n",
    "gbrt = GradientBoostingClassifier(random_state=0, learning_rate=0.01)\n",
    "gbrt.fit(X_train, y_train)\n",
    "\n",
    "print(\"훈련 세트 정확도: {:.3f}\".format(gbrt.score(X_train, y_train)))\n",
    "print(\"테스트 세트 정확도: {:.3f}\".format(gbrt.score(X_test, y_test)))"
   ]
  },
  {
   "cell_type": "markdown",
   "metadata": {},
   "source": [
    "위의 두 방식은 복잡도를 감소시키기에, `훈련 세트`의 정확도가 낮아졌다.<br>\n",
    "- `학습률을 낮추는 것`은 테스트 세트의 성능을 조금밖에 개선 못했지만,<br>\n",
    "- `트리의 최대 깊이를 낮추는 것`은 모델 성능 향상에 크게 기여했다.\n",
    "\n",
    "<br>\n",
    "\n",
    "다른 결정 트리 기반의 모델처럼 특성의 중요도를 시각화하면 모델을 더 잘 이해할 수 있다.<br>"
   ]
  },
  {
   "cell_type": "code",
   "execution_count": 10,
   "metadata": {},
   "outputs": [
    {
     "data": {
      "image/png": "[encoded data removed]",
      "text/plain": [
       "<Figure size 432x288 with 1 Axes>"
      ]
     },
     "metadata": {
      "needs_background": "light"
     },
     "output_type": "display_data"
    }
   ],
   "source": [
    "def plot_feature_importances_cancer(model):\n",
    "    n_features = cancer.data.shape[1]\n",
    "    plt.barh(range(n_features), model.feature_importances_, align='center')\n",
    "    plt.yticks(np.arange(n_features), cancer.feature_names)\n",
    "    plt.xlabel(\"feature_importances\")\n",
    "    plt.ylabel(\"property\")\n",
    "    plt.ylim(-1, n_features)\n",
    "\n",
    "gbrt = GradientBoostingClassifier(random_state=0, max_depth=1)\n",
    "gbrt.fit(X_train, y_train)\n",
    "\n",
    "plot_feature_importances_cancer(gbrt)"
   ]
  },
  {
   "cell_type": "markdown",
   "metadata": {},
   "source": [
    "[이전 포스팅](https://jhryu1208.github.io/data/2020/11/16/ML_decision_tree_ensemble_random_forest/)의 `랜덤 포레스트`와 `그레디언트 부스팅`의 특성 중요도가 비슷한 것으로 확인된다.<br>\n",
    "다만 `그래디언트 부스팅`은 일부 특성을 완전히 무시한다.\n",
    "\n",
    "<br>\n",
    "\n",
    "비슷한 종류의 데이터에서 `그래디언트 부스팅`과 `랜덤 포레스트` 둘다 잘 작동된다.<br>\n",
    "보통은 더 안정적인 `랜덤 포레스트`를 먼저 적용한다.<br>\n",
    "아무리 `랜덤 포레스트`가 잘 작동하더라도 예측 시간이 중요하거나<br>\n",
    "머신러닝 모델에서 마지막 성능까지 쥐어 짜야 할 때는 `그레디언 부스팅`이 도움이 된다.\n",
    "\n",
    "<br>"
   ]
  },
  {
   "cell_type": "markdown",
   "metadata": {},
   "source": [
    "---\n",
    "\n",
    "#### <u>장단점과 매개변수</u>"
   ]
  },
  {
   "cell_type": "markdown",
   "metadata": {},
   "source": [
    "`그래디언트 부스팅` 결정 트리는 지도학습에서 가장 강력하고 널리 사용하는 모델 중 하나이다.<br>\n",
    "\n",
    "- <b>장점</b>\n",
    "    - 다른 트리 기반 모델처럼 특성의 스케일을 조정하지 않아도 된다.\n",
    "    - 이진(binary) 특성이나 연속적인 특성에서도 잘 동작한다. \n",
    "\n",
    "<br>\n",
    "\n",
    "- <b>단점</b>\n",
    "    - 매개변수를 잘 조정해야만 한다.\n",
    "    - 훈련 시간이 길다.\n",
    "    - 트리 기반 모델의 특성상 희소한 고차원 데이터에는 잘 작동하지 못한다.\n",
    "    \n",
    "    \n",
    "<br>\n",
    "\n",
    "- <b>그래디언트 부스팅 트리 모델의 매개변수</b>\n",
    "    - `n_estimators` : 트리의 개수 지정\n",
    "    \n",
    "    <br>\n",
    "    \n",
    "        - 해당 매개변수가 클수록 `랜덤 포레스트`와 달리<br> `그래디언 부스팅`에서는 `모델이 복잡`해지고 `과대적합`될 가능성이 높아진다.\n",
    "        \n",
    "    <br>\n",
    "    \n",
    "    - `learning_rate` : 이전 트리의 오차를 보정하는 정도\n",
    "    \n",
    "    <br>\n",
    "    \n",
    "        - `n_estimators`와 이 매개변수는 매우 깊게 연관되어있으며 해당 변수를 낮추면 비슷한 복잡도의 모델을 만들기 위해서는 `n_estimators`를 늘려서 더 많은 트리를 추가해야한다.\n",
    "        - 일반적인 관례는 가용한 시간과 메모리 한도에서 `n_estimators`를 맞추고 나서 적절한 `learning_rate`를 찾는 것이다.\n",
    "        \n",
    "     <br>\n",
    "     \n",
    "    - `max_depth(or max_leaf_nodes)` : 트리의 복잡도를 지정\n",
    "    \n",
    "    <br>\n",
    "    \n",
    "        - 통상 `그래디언트 부스팅`모델에서는 이 매개변수를 매우 작게 설정하며<br>트리의 깊이가 5보다 깊어지지 않게 한다.\n",
    "    \n",
    "    \n",
    "<br>    "
   ]
  },
  {
   "cell_type": "markdown",
   "metadata": {},
   "source": [
    "---\n",
    "\n",
    "### References\n",
    "\n",
    "- 안드레아스 뮐러, 세라 가이도, 『파이썬 라이브러리를 활용한 머신러닝』, 박해선, 한빛미디어(2017)\n",
    "- https://tensorflow.blog/%ed%8c%8c%ec%9d%b4%ec%8d%ac-%eb%a8%b8%ec%8b%a0%eb%9f%ac%eb%8b%9d/2-3-6-%ea%b2%b0%ec%a0%95-%ed%8a%b8%eb%a6%ac%ec%9d%98-%ec%95%99%ec%83%81%eb%b8%94/"
   ]
  }
 ],
 "metadata": {
  "kernelspec": {
   "display_name": "Python 3",
   "language": "python",
   "name": "python3"
  },
  "language_info": {
   "codemirror_mode": {
    "name": "ipython",
    "version": 3
   },
   "file_extension": ".py",
   "mimetype": "text/x-python",
   "name": "python",
   "nbconvert_exporter": "python",
   "pygments_lexer": "ipython3",
   "version": "3.8.5"
  }
 },
 "nbformat": 4,
 "nbformat_minor": 4
}
