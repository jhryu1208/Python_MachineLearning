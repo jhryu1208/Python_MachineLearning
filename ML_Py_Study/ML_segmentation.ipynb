{
 "cells": [
  {
   "cell_type": "markdown",
   "metadata": {},
   "source": [
    "[ML with Python] 4. 구간 분할/이산화 & 상호작용/다항식\n",
    "- 본 포스팅은 구간 분할/이산화 와 상호작용/다항식에 관한 기본적인 내용에 관하여 다룹니다.\n"
   ]
  },
  {
   "cell_type": "markdown",
   "metadata": {
    "toc": true
   },
   "source": [
    "<h1>Table of Contents<span class=\"tocSkip\"></span></h1>\n",
    "<div class=\"toc\"><ul class=\"toc-item\"><li><span><a href=\"#1)-구간-분할,-이산화-그리고-선형-모델,-트리-모델-(-feat.-KBinsDiscretiezer-클래스-)\" data-toc-modified-id=\"1)-구간-분할,-이산화-그리고-선형-모델,-트리-모델-(-feat.-KBinsDiscretiezer-클래스-)-0\">1) 구간 분할, 이산화 그리고 선형 모델, 트리 모델 ( feat. KBinsDiscretiezer 클래스 )</a></span></li><li><span><a href=\"#2)-상호작용\" data-toc-modified-id=\"2)-상호작용-1\">2) 상호작용</a></span></li><li><span><a href=\"#3)-다항식-(-feat.-PolynomialFeatures-)\" data-toc-modified-id=\"3)-다항식-(-feat.-PolynomialFeatures-)-2\">3) 다항식 ( feat. PolynomialFeatures )</a></span></li><li><span><a href=\"#4)-상호작용/다항식-적용-:-보스턴-주택-가격-데이터셋\" data-toc-modified-id=\"4)-상호작용/다항식-적용-:-보스턴-주택-가격-데이터셋-3\">4) 상호작용/다항식 적용 : 보스턴 주택 가격 데이터셋</a></span></li><li><span><a href=\"#5)-References\" data-toc-modified-id=\"5)-References-4\">5) References</a></span></li></ul></div>"
   ]
  },
  {
   "cell_type": "markdown",
   "metadata": {},
   "source": [
    "---\n",
    "\n",
    "필요라이브러리 import"
   ]
  },
  {
   "cell_type": "code",
   "execution_count": 86,
   "metadata": {
    "ExecuteTime": {
     "end_time": "2021-01-10T14:03:18.229184Z",
     "start_time": "2021-01-10T14:03:18.223180Z"
    }
   },
   "outputs": [],
   "source": [
    "import numpy as np\n",
    "import pandas as pd\n",
    "import mglearn\n",
    "import matplotlib.pyplot as plt\n",
    "from sklearn.datasets import load_boston\n",
    "from sklearn.model_selection import train_test_split\n",
    "from sklearn.preprocessing import MinMaxScaler\n",
    "from sklearn.linear_model import LinearRegression\n",
    "from sklearn.tree import DecisionTreeRegressor\n",
    "from sklearn.linear_model import Ridge\n",
    "from sklearn.svm import SVR\n",
    "from sklearn.preprocessing import KBinsDiscretizer\n",
    "from sklearn.preprocessing import PolynomialFeatures\n",
    "import warnings\n",
    "warnings.filterwarnings(action='ignore')\n",
    "plt.rcParams['axes.unicode_minus'] = False \n",
    "plt.rc('font', family='Malgun Gothic') "
   ]
  },
  {
   "cell_type": "markdown",
   "metadata": {},
   "source": [
    "<br>\n",
    "\n",
    "---\n",
    "\n",
    "### 1) 구간 분할, 이산화 그리고 선형 모델, 트리 모델 ( feat. KBinsDiscretiezer 클래스 )"
   ]
  },
  {
   "cell_type": "markdown",
   "metadata": {},
   "source": [
    "데이터를 가장 잘 표현하는 방법은 <u>데이터가 가진 의미</u> 뿐 아니라 <u>어떤 모델을 사용하는지</u>에 따라 다르다. 폭넓게 사용되어지는 두 알고리즘인 `선형 모델`과 `트리 기반 모델`은 <u>특성의 표현 방식</u>으로 인해 미치는 영향이 매우 다르다.\n",
    "\n",
    "<br>\n",
    "\n",
    "입력 특성이 하나 뿐인 wave 데이터셋을 이용해 `선형 회귀 모델`과 `결정 트리 회귀`를 비교해보자."
   ]
  },
  {
   "cell_type": "code",
   "execution_count": 78,
   "metadata": {
    "ExecuteTime": {
     "end_time": "2021-01-10T13:41:33.715651Z",
     "start_time": "2021-01-10T13:41:33.591622Z"
    }
   },
   "outputs": [
    {
     "data": {
      "text/plain": [
       "<matplotlib.legend.Legend at 0x261ab443c08>"
      ]
     },
     "execution_count": 78,
     "metadata": {},
     "output_type": "execute_result"
    },
    {
     "data": {
      "image/png": "[encoded data removed]",
      "text/plain": [
       "<Figure size 432x288 with 1 Axes>"
      ]
     },
     "metadata": {
      "needs_background": "light"
     },
     "output_type": "display_data"
    }
   ],
   "source": [
    "from sklearn.linear_model import LinearRegression\n",
    "from sklearn.tree import DecisionTreeRegressor\n",
    "\n",
    "X, y = mglearn.datasets.make_wave(n_samples=120)\n",
    "line = np.linspace(-3, 3, 1000, endpoint=False).reshape(-1, 1)\n",
    "\n",
    "tree_reg = DecisionTreeRegressor(min_samples_leaf=3).fit(X, y)\n",
    "line_reg = LinearRegression().fit(X, y)\n",
    "\n",
    "plt.plot(line, tree_reg.predict(line), label = '결정 트리')\n",
    "plt.plot(line, line_reg.predict(line), label = '선형 회귀')\n",
    "plt.plot(X[:, 0], y, 'o', c='k')\n",
    "plt.ylabel('회귀 출력')\n",
    "plt.xlabel('입력 특성')\n",
    "plt.legend(loc = 'best')"
   ]
  },
  {
   "cell_type": "markdown",
   "metadata": {},
   "source": [
    "`선형 모델`은 선형 관계로만 모델링하므로 특성이 하나일 경우 직선으로만 나타나는 것을 확인할 수 있다. `결정 트리`의 경우는 같은 데이터로 복잡한 모델을 만들었다. 그러나 <u>이는 데이터의 표현 형태에 따라 굉장히 달라질 수 있다.</u>\n",
    "\n",
    "<br>\n",
    "\n",
    "연속형 데이터에 아주 강력한 `선형 모델`을 만드는 방법 하나는 <u>한 특성을 여러 특성으로 나누는 </u>`구간분할(or 이산화)(bining)`<u>이 있다.</u> 쉽게 말하자면, 연속적인 데이터를 하나의 구간으로 묶는 것이다. `KBinsDiscretizer` 클래스를 통하여 이를 구현해보자."
   ]
  },
  {
   "cell_type": "markdown",
   "metadata": {},
   "source": [
    "<br>\n",
    "\n",
    "먼저 wave의 input 구간은 \"-3 ~ 3(데이터에서 가장 작은 값 : -2.967, 데이터에서 가장 큰 값 : 2.92132162\" 이다. 이를 `KBinsDiscreteizer`클래스를 이용하여 균일한 너비로 10개의 구간(`n_bis = 10`)으로 나누면 다음과 같다."
   ]
  },
  {
   "cell_type": "code",
   "execution_count": 10,
   "metadata": {
    "ExecuteTime": {
     "end_time": "2021-01-10T12:54:45.851665Z",
     "start_time": "2021-01-10T12:54:45.847664Z"
    }
   },
   "outputs": [
    {
     "name": "stdout",
     "output_type": "stream",
     "text": [
      "bin edges :\n",
      " [array([-2.9668673 , -2.37804841, -1.78922951, -1.20041062, -0.61159173,\n",
      "       -0.02277284,  0.56604605,  1.15486494,  1.74368384,  2.33250273,\n",
      "        2.92132162])]\n"
     ]
    }
   ],
   "source": [
    "from sklearn.preprocessing import KBinsDiscretizer\n",
    "\n",
    "kb = KBinsDiscretizer(n_bins=10, strategy='uniform')\n",
    "kb.fit(X)\n",
    "#  이때 `bin_edges_` 메소드를 이용하여 저장되어진 경계값을 확인할 수 있다.\n",
    "print(\"bin edges :\\n\", kb.bin_edges_ )"
   ]
  },
  {
   "cell_type": "markdown",
   "metadata": {},
   "source": [
    "<br>\n",
    "\n",
    "`KBinsDiscretizer`클래스로 형성된 경계값을 기준으로 형성된 구간마다 다음과 같이 데이터 포인트를 나눌수 있다.\n",
    "- 첫 번째 구간은 특성의 값이 -2.967부터 -2.378까지의 모든 데이터 포인트를 담는다.\n",
    "- 두 번째 구간은 특성의 값이 -2.237부터 -1.789까지의 모든 데이터 포인트를 담는다.\n",
    "- 두 번째 구간은 특성의 값이 -1.789부터 -1.200까지의 모든 데이터 포인트를 담는다."
   ]
  },
  {
   "cell_type": "code",
   "execution_count": 17,
   "metadata": {
    "ExecuteTime": {
     "end_time": "2021-01-10T12:56:09.367362Z",
     "start_time": "2021-01-10T12:56:09.360361Z"
    },
    "scrolled": false
   },
   "outputs": [
    {
     "name": "stdout",
     "output_type": "stream",
     "text": [
      "property_1 : -2.9668672972583856 <= X_input < -2.378048405572237\n",
      "\n",
      "X_input값 : \n",
      " [-2.9668673  -2.87649303 -2.84748524 -2.81142489 -2.79366887 -2.72863627\n",
      " -2.72129752 -2.65149833 -2.6186499  -2.60969044 -2.55573209 -2.55269614\n",
      " -2.53812054 -2.46904499 -2.41396732]\n",
      "\n",
      "------------------------------------------------------------------------------------\n",
      "property_2 : -2.378048405572237 <= X_input < -1.7892295138860876\n",
      "\n",
      "X_input값 : \n",
      " [-2.35265144 -2.30478564 -2.28243452 -2.26777059 -2.16303684 -2.15445465\n",
      " -2.06403288 -2.06388816 -2.03267228 -1.97685526 -1.9090502  -1.89957294\n",
      " -1.89087327 -1.88057965 -1.82410283 -1.80770591 -1.80195731]\n",
      "\n",
      "------------------------------------------------------------------------------------\n",
      "property_3 : -1.7892295138860876 <= X_input < -1.2004106221999387\n",
      "\n",
      "X_input값 : \n",
      " [-1.72596534 -1.62721101 -1.50424663 -1.44732011 -1.37190581 -1.31439294\n",
      " -1.26149128 -1.25262516 -1.24713211]\n",
      "\n",
      "------------------------------------------------------------------------------------\n",
      "\n",
      "and so on...\n"
     ]
    }
   ],
   "source": [
    "X_result = kb.bin_edges_[0].tolist()\n",
    "X_input = np.sort(X.reshape(-1))\n",
    "\n",
    "for i in range(3):\n",
    "    print('property_{0} :'.format(i+1) , X_result[i], '<= X_input <',X_result[i+1])\n",
    "    print()\n",
    "    print('X_input값 : \\n', X_input[np.where(np.logical_and(X_input >= X_result[i], X_input < X_result[i+1]))])\n",
    "    print()\n",
    "    print('------------------------------------------------------------------------------------')\n",
    "\n",
    "print()\n",
    "print('and so on...')"
   ]
  },
  {
   "cell_type": "markdown",
   "metadata": {},
   "source": [
    "<br>\n",
    "\n",
    "여기서 `transform`메소드를 이용하면 <u>각 데이터 포인트를 해당되는 구간으로 인코딩</u>시킬 수 있다. "
   ]
  },
  {
   "cell_type": "code",
   "execution_count": 19,
   "metadata": {
    "ExecuteTime": {
     "end_time": "2021-01-10T12:56:22.725353Z",
     "start_time": "2021-01-10T12:56:22.720352Z"
    }
   },
   "outputs": [
    {
     "name": "stdout",
     "output_type": "stream",
     "text": [
      "(120, 10)\n"
     ]
    },
    {
     "data": {
      "text/plain": [
       "array([[0., 0., 0., 1., 0., 0., 0., 0., 0., 0.],\n",
       "       [0., 0., 0., 0., 0., 0., 0., 0., 0., 1.],\n",
       "       [0., 0., 0., 0., 0., 0., 0., 1., 0., 0.],\n",
       "       [0., 0., 0., 0., 0., 0., 1., 0., 0., 0.],\n",
       "       [0., 1., 0., 0., 0., 0., 0., 0., 0., 0.],\n",
       "       [0., 1., 0., 0., 0., 0., 0., 0., 0., 0.],\n",
       "       [1., 0., 0., 0., 0., 0., 0., 0., 0., 0.],\n",
       "       [0., 0., 0., 0., 0., 0., 0., 0., 1., 0.],\n",
       "       [0., 0., 0., 0., 0., 0., 1., 0., 0., 0.],\n",
       "       [0., 0., 0., 0., 0., 0., 0., 1., 0., 0.]])"
      ]
     },
     "execution_count": 19,
     "metadata": {},
     "output_type": "execute_result"
    }
   ],
   "source": [
    "X_binned = kb.transform(X)\n",
    "print(X_binned.toarray().shape)\n",
    "X_binned.toarray()[:10]"
   ]
  },
  {
   "cell_type": "code",
   "execution_count": 20,
   "metadata": {
    "ExecuteTime": {
     "end_time": "2021-01-10T12:56:23.934624Z",
     "start_time": "2021-01-10T12:56:23.912618Z"
    }
   },
   "outputs": [
    {
     "data": {
      "text/html": [
       "<div>\n",
       "<style scoped>\n",
       "    .dataframe tbody tr th:only-of-type {\n",
       "        vertical-align: middle;\n",
       "    }\n",
       "\n",
       "    .dataframe tbody tr th {\n",
       "        vertical-align: top;\n",
       "    }\n",
       "\n",
       "    .dataframe thead th {\n",
       "        text-align: right;\n",
       "    }\n",
       "</style>\n",
       "<table border=\"1\" class=\"dataframe\">\n",
       "  <thead>\n",
       "    <tr style=\"text-align: right;\">\n",
       "      <th></th>\n",
       "      <th>property_1</th>\n",
       "      <th>property_2</th>\n",
       "      <th>property_3</th>\n",
       "      <th>property_4</th>\n",
       "      <th>property_5</th>\n",
       "      <th>property_6</th>\n",
       "      <th>property_7</th>\n",
       "      <th>property_8</th>\n",
       "      <th>property_9</th>\n",
       "      <th>property_10</th>\n",
       "    </tr>\n",
       "    <tr>\n",
       "      <th>X_input</th>\n",
       "      <th></th>\n",
       "      <th></th>\n",
       "      <th></th>\n",
       "      <th></th>\n",
       "      <th></th>\n",
       "      <th></th>\n",
       "      <th></th>\n",
       "      <th></th>\n",
       "      <th></th>\n",
       "      <th></th>\n",
       "    </tr>\n",
       "  </thead>\n",
       "  <tbody>\n",
       "    <tr>\n",
       "      <th>-0.752759</th>\n",
       "      <td>0.0</td>\n",
       "      <td>0.0</td>\n",
       "      <td>0.0</td>\n",
       "      <td>1.0</td>\n",
       "      <td>0.0</td>\n",
       "      <td>0.0</td>\n",
       "      <td>0.0</td>\n",
       "      <td>0.0</td>\n",
       "      <td>0.0</td>\n",
       "      <td>0.0</td>\n",
       "    </tr>\n",
       "    <tr>\n",
       "      <th>2.704286</th>\n",
       "      <td>0.0</td>\n",
       "      <td>0.0</td>\n",
       "      <td>0.0</td>\n",
       "      <td>0.0</td>\n",
       "      <td>0.0</td>\n",
       "      <td>0.0</td>\n",
       "      <td>0.0</td>\n",
       "      <td>0.0</td>\n",
       "      <td>0.0</td>\n",
       "      <td>1.0</td>\n",
       "    </tr>\n",
       "    <tr>\n",
       "      <th>1.391964</th>\n",
       "      <td>0.0</td>\n",
       "      <td>0.0</td>\n",
       "      <td>0.0</td>\n",
       "      <td>0.0</td>\n",
       "      <td>0.0</td>\n",
       "      <td>0.0</td>\n",
       "      <td>0.0</td>\n",
       "      <td>1.0</td>\n",
       "      <td>0.0</td>\n",
       "      <td>0.0</td>\n",
       "    </tr>\n",
       "    <tr>\n",
       "      <th>0.591951</th>\n",
       "      <td>0.0</td>\n",
       "      <td>0.0</td>\n",
       "      <td>0.0</td>\n",
       "      <td>0.0</td>\n",
       "      <td>0.0</td>\n",
       "      <td>0.0</td>\n",
       "      <td>1.0</td>\n",
       "      <td>0.0</td>\n",
       "      <td>0.0</td>\n",
       "      <td>0.0</td>\n",
       "    </tr>\n",
       "    <tr>\n",
       "      <th>-2.063888</th>\n",
       "      <td>0.0</td>\n",
       "      <td>1.0</td>\n",
       "      <td>0.0</td>\n",
       "      <td>0.0</td>\n",
       "      <td>0.0</td>\n",
       "      <td>0.0</td>\n",
       "      <td>0.0</td>\n",
       "      <td>0.0</td>\n",
       "      <td>0.0</td>\n",
       "      <td>0.0</td>\n",
       "    </tr>\n",
       "    <tr>\n",
       "      <th>...</th>\n",
       "      <td>...</td>\n",
       "      <td>...</td>\n",
       "      <td>...</td>\n",
       "      <td>...</td>\n",
       "      <td>...</td>\n",
       "      <td>...</td>\n",
       "      <td>...</td>\n",
       "      <td>...</td>\n",
       "      <td>...</td>\n",
       "      <td>...</td>\n",
       "    </tr>\n",
       "    <tr>\n",
       "      <th>2.228764</th>\n",
       "      <td>0.0</td>\n",
       "      <td>0.0</td>\n",
       "      <td>0.0</td>\n",
       "      <td>0.0</td>\n",
       "      <td>0.0</td>\n",
       "      <td>0.0</td>\n",
       "      <td>0.0</td>\n",
       "      <td>0.0</td>\n",
       "      <td>1.0</td>\n",
       "      <td>0.0</td>\n",
       "    </tr>\n",
       "    <tr>\n",
       "      <th>1.822032</th>\n",
       "      <td>0.0</td>\n",
       "      <td>0.0</td>\n",
       "      <td>0.0</td>\n",
       "      <td>0.0</td>\n",
       "      <td>0.0</td>\n",
       "      <td>0.0</td>\n",
       "      <td>0.0</td>\n",
       "      <td>0.0</td>\n",
       "      <td>1.0</td>\n",
       "      <td>0.0</td>\n",
       "    </tr>\n",
       "    <tr>\n",
       "      <th>-1.880580</th>\n",
       "      <td>0.0</td>\n",
       "      <td>1.0</td>\n",
       "      <td>0.0</td>\n",
       "      <td>0.0</td>\n",
       "      <td>0.0</td>\n",
       "      <td>0.0</td>\n",
       "      <td>0.0</td>\n",
       "      <td>0.0</td>\n",
       "      <td>0.0</td>\n",
       "      <td>0.0</td>\n",
       "    </tr>\n",
       "    <tr>\n",
       "      <th>2.355354</th>\n",
       "      <td>0.0</td>\n",
       "      <td>0.0</td>\n",
       "      <td>0.0</td>\n",
       "      <td>0.0</td>\n",
       "      <td>0.0</td>\n",
       "      <td>0.0</td>\n",
       "      <td>0.0</td>\n",
       "      <td>0.0</td>\n",
       "      <td>0.0</td>\n",
       "      <td>1.0</td>\n",
       "    </tr>\n",
       "    <tr>\n",
       "      <th>0.236053</th>\n",
       "      <td>0.0</td>\n",
       "      <td>0.0</td>\n",
       "      <td>0.0</td>\n",
       "      <td>0.0</td>\n",
       "      <td>0.0</td>\n",
       "      <td>1.0</td>\n",
       "      <td>0.0</td>\n",
       "      <td>0.0</td>\n",
       "      <td>0.0</td>\n",
       "      <td>0.0</td>\n",
       "    </tr>\n",
       "  </tbody>\n",
       "</table>\n",
       "<p>120 rows × 10 columns</p>\n",
       "</div>"
      ],
      "text/plain": [
       "           property_1  property_2  property_3  property_4  property_5  \\\n",
       "X_input                                                                 \n",
       "-0.752759         0.0         0.0         0.0         1.0         0.0   \n",
       " 2.704286         0.0         0.0         0.0         0.0         0.0   \n",
       " 1.391964         0.0         0.0         0.0         0.0         0.0   \n",
       " 0.591951         0.0         0.0         0.0         0.0         0.0   \n",
       "-2.063888         0.0         1.0         0.0         0.0         0.0   \n",
       "...               ...         ...         ...         ...         ...   \n",
       " 2.228764         0.0         0.0         0.0         0.0         0.0   \n",
       " 1.822032         0.0         0.0         0.0         0.0         0.0   \n",
       "-1.880580         0.0         1.0         0.0         0.0         0.0   \n",
       " 2.355354         0.0         0.0         0.0         0.0         0.0   \n",
       " 0.236053         0.0         0.0         0.0         0.0         0.0   \n",
       "\n",
       "           property_6  property_7  property_8  property_9  property_10  \n",
       "X_input                                                                 \n",
       "-0.752759         0.0         0.0         0.0         0.0          0.0  \n",
       " 2.704286         0.0         0.0         0.0         0.0          1.0  \n",
       " 1.391964         0.0         0.0         1.0         0.0          0.0  \n",
       " 0.591951         0.0         1.0         0.0         0.0          0.0  \n",
       "-2.063888         0.0         0.0         0.0         0.0          0.0  \n",
       "...               ...         ...         ...         ...          ...  \n",
       " 2.228764         0.0         0.0         0.0         1.0          0.0  \n",
       " 1.822032         0.0         0.0         0.0         1.0          0.0  \n",
       "-1.880580         0.0         0.0         0.0         0.0          0.0  \n",
       " 2.355354         0.0         0.0         0.0         0.0          1.0  \n",
       " 0.236053         1.0         0.0         0.0         0.0          0.0  \n",
       "\n",
       "[120 rows x 10 columns]"
      ]
     },
     "execution_count": 20,
     "metadata": {},
     "output_type": "execute_result"
    }
   ],
   "source": [
    "df = pd.DataFrame(X_binned.toarray())\n",
    "df.columns = ['property_{0}'.format(i) for i in range(1,11)]\n",
    "df['X_input'] = X.copy().reshape(-1)\n",
    "df = df.set_index('X_input')\n",
    "df"
   ]
  },
  {
   "cell_type": "markdown",
   "metadata": {},
   "source": [
    "<br>\n",
    "\n",
    "`원-핫-인코딩`된 데이터로 `선형 회귀 모델`과 `결정 트리 모델`을 새로 만들어보자."
   ]
  },
  {
   "cell_type": "code",
   "execution_count": 21,
   "metadata": {
    "ExecuteTime": {
     "end_time": "2021-01-10T12:56:25.676014Z",
     "start_time": "2021-01-10T12:56:25.571991Z"
    }
   },
   "outputs": [
    {
     "data": {
      "text/plain": [
       "<matplotlib.legend.Legend at 0x261a40af9c8>"
      ]
     },
     "execution_count": 21,
     "metadata": {},
     "output_type": "execute_result"
    },
    {
     "data": {
      "image/png": "[encoded data removed]",
      "text/plain": [
       "<Figure size 432x288 with 1 Axes>"
      ]
     },
     "metadata": {
      "needs_background": "light"
     },
     "output_type": "display_data"
    }
   ],
   "source": [
    "from sklearn.preprocessing import KBinsDiscretizer\n",
    "\n",
    "# 예제를 간단하게 만들기 위해 encode = 'onehot-dense'로 지정하여 원-핫-인코딩된 밀집 행렬로 리턴하여 사용할 것이다.\n",
    "kb = KBinsDiscretizer(n_bins=10, strategy='uniform', encode='onehot-dense')\n",
    "# wave데이터셋을 학습데이터로 하여금 만든 원-핫-인코딩 배열을 X_binned에 저장\n",
    "kb.fit(X); X_binned = kb.transform(X)\n",
    "\n",
    "# test데이터셋이라고 볼 수 있는 line\n",
    "line_binned = kb.transform(line)\n",
    "\n",
    "# 특성구간으로 나누어진 train데이터로 각 모델을 학습시킨다.\n",
    "tree_reg = DecisionTreeRegressor(min_samples_leaf=3).fit(X_binned, y)\n",
    "line_reg = LinearRegression().fit(X_binned, y)\n",
    "\n",
    "# 학습된 모델을 이용하여 특성구간으로 나누어진 test데이터를 예측\n",
    "plt.plot(line, tree_reg.predict(line_binned), label = '구간 결정 트리')\n",
    "plt.plot(line, line_reg.predict(line_binned), label = '구간 선형 회귀')\n",
    "\n",
    "plt.plot(X[:, 0], y, 'o', c='k')\n",
    "plt.vlines(kb.bin_edges_[0], -3, 3, linewidth=1, alpha=.2)\n",
    "plt.ylabel('회귀 출력')\n",
    "plt.xlabel('입력 특성')\n",
    "plt.legend(loc = 'best')"
   ]
  },
  {
   "cell_type": "markdown",
   "metadata": {},
   "source": [
    "`선형 회귀 모델`과 `결정 트리`가 같은 예측을 만들어내서 파선과 실선이 완전히 겹쳐진 것을 확인할 수 있다. 구간별로 이 두 모델이 예측한 것은 (실수)상수값이다. 각 구간 안에서는 특성의 값이 상수값이기 때문에 어떤 모델이든 그 구간의 포인트에 대해서는 같은 값을 예측할 것이다.\n",
    "\n",
    "<br>\n",
    "\n",
    "구간으로 나눈 특성을 사용하기 전과 비교하면, `선형 모델`의 경우 <u>매우 유연해진 것</u>을 알 수 있다. 반면 `결정 트리`는 <u>덜 유연</u>해졌다. `트리 모델`의 경우는 구간으로 나누는 것은 아무런 득이 없지만, `선형 모델`은 이러한 변환으로부터 큰 이득을 얻었다.\n",
    "\n",
    "<br>\n",
    "\n",
    "따라서, 일부 특성과 출력이 `비선형 관계`이지만, 용량이 매우 크고 고차원 데이터셋이라 `선형 모델`을 사용해야 한다면 `구간 분할`이 모델의 성능을 높이는데 아주 탁월한 방법이 될 수 있다."
   ]
  },
  {
   "cell_type": "markdown",
   "metadata": {},
   "source": [
    "<br>\n",
    "\n",
    "---\n",
    "\n",
    "### 2) 상호작용"
   ]
  },
  {
   "cell_type": "markdown",
   "metadata": {},
   "source": [
    "특성을 풍부하게 나타내는 또 하나의 방법은 원본 데이터에 \n",
    "\n",
    "- `상호작용(interaction)` \n",
    "- `다항식(polynomial)`\n",
    "\n",
    "을 추가하는 것이다.\n",
    "\n",
    "<br>\n",
    "\n",
    "이전의 선형 모델을 `KBinsDiscretizer`클래스를 이용해서 wave데이터셋의 각 구간에 대해 상숫값을 학습했었다. 여기서 더 나아가, 이러한 `선형 모델`<u>은 이런 절편 외에도 <b>기울기</b>도 학습할 수 있다</u>. 선형 모델에 기울기를 추가하는 방법은 <u>구간으로 분할된 데이터에 원래 특성을 다시 추가하는 것</u>이다.\n",
    "\n",
    "<br>\n",
    "\n",
    "이를 확인하기 위해, 다음 처럼 `hstack`을 이용해서 구간별로 상숫값을 학습했던 데이터셋에 원본 특성을 다시 추가해보자. 추가 결과 기존의 10차원 데이터셋에서 11차원 데이터셋으로 증가하였음을 확인할 수 있다."
   ]
  },
  {
   "cell_type": "code",
   "execution_count": 25,
   "metadata": {
    "ExecuteTime": {
     "end_time": "2021-01-10T12:56:59.200519Z",
     "start_time": "2021-01-10T12:56:59.197518Z"
    }
   },
   "outputs": [
    {
     "name": "stdout",
     "output_type": "stream",
     "text": [
      "(120, 11)\n"
     ]
    }
   ],
   "source": [
    "X_combined = np.hstack([X, X_binned])\n",
    "print(X_combined.shape)"
   ]
  },
  {
   "cell_type": "markdown",
   "metadata": {},
   "source": [
    "<br>\n",
    "\n",
    "원본 특성을 추가한 데이터셋으로 학습시킨 선형회귀 모델은 각 구간의 `절편(X)`과 `기울기(X_binned)`를 학습하였다. "
   ]
  },
  {
   "cell_type": "code",
   "execution_count": 26,
   "metadata": {
    "ExecuteTime": {
     "end_time": "2021-01-10T12:59:43.248246Z",
     "start_time": "2021-01-10T12:59:43.153226Z"
    }
   },
   "outputs": [
    {
     "data": {
      "text/plain": [
       "[<matplotlib.lines.Line2D at 0x261a8e884c8>]"
      ]
     },
     "execution_count": 26,
     "metadata": {},
     "output_type": "execute_result"
    },
    {
     "data": {
      "image/png": "[encoded data removed]",
      "text/plain": [
       "<Figure size 432x288 with 1 Axes>"
      ]
     },
     "metadata": {
      "needs_background": "light"
     },
     "output_type": "display_data"
    }
   ],
   "source": [
    "reg = LinearRegression().fit(X_combined, y)\n",
    "\n",
    "line_combined = np.hstack([line, line_binned])\n",
    "plt.plot(line, reg.predict(line_combined), label = '원본 특성을 더한 선형 회귀')\n",
    "\n",
    "plt.vlines(kb.bin_edges_[0], -3, 3, linewidth=1, alpha=.2)\n",
    "plt.legend(loc = 'best')\n",
    "plt.ylabel('회귀 출력')\n",
    "plt.xlabel('입력 특성')\n",
    "plt.plot(X[:, 0], y, 'o', c='k')"
   ]
  },
  {
   "cell_type": "markdown",
   "metadata": {},
   "source": [
    "<br>\n",
    "\n",
    "학습된 기울기는 모든 구간에 걸쳐 동일 하지만, 이러한 모든 구간에서 동일하기에 큰 이점은 없다. <u>오히려 각 구간에서 다른 기울기를 가지는 것이 더 이점이 있다</u>. 이러한 효과를 보기위해서는 `데이터 포인트가 있는 구간(X_binned)`과 `x축 사이의 상호작용 특성(구간 특성<X_binned> * 원본 특성<X>)`을 추가할 수 있다."
   ]
  },
  {
   "cell_type": "code",
   "execution_count": 27,
   "metadata": {
    "ExecuteTime": {
     "end_time": "2021-01-10T13:06:24.946179Z",
     "start_time": "2021-01-10T13:06:24.942179Z"
    }
   },
   "outputs": [
    {
     "name": "stdout",
     "output_type": "stream",
     "text": [
      "(120, 20)\n"
     ]
    }
   ],
   "source": [
    "X_product = np.hstack([X_binned, X*X_binned])\n",
    "# 데이터셋은 데이터 포인트가 속한 구간과 이 구간에 원본 특성을 곱한 값을 더해 20개의 특성을 가지게된다.\n",
    "print(X_product.shape)"
   ]
  },
  {
   "cell_type": "markdown",
   "metadata": {},
   "source": [
    "<br>\n",
    "\n",
    "데이터 포인트가 속한 구간과 원본 특성을 곱한 값(X*X_binned)은 구간 안에서는 원본 특성이고 다른 곳에서는 0인 것을 확인할 수 있다."
   ]
  },
  {
   "cell_type": "code",
   "execution_count": 33,
   "metadata": {
    "ExecuteTime": {
     "end_time": "2021-01-10T13:09:39.191093Z",
     "start_time": "2021-01-10T13:09:39.177090Z"
    }
   },
   "outputs": [
    {
     "data": {
      "text/html": [
       "<div>\n",
       "<style scoped>\n",
       "    .dataframe tbody tr th:only-of-type {\n",
       "        vertical-align: middle;\n",
       "    }\n",
       "\n",
       "    .dataframe tbody tr th {\n",
       "        vertical-align: top;\n",
       "    }\n",
       "\n",
       "    .dataframe thead th {\n",
       "        text-align: right;\n",
       "    }\n",
       "</style>\n",
       "<table border=\"1\" class=\"dataframe\">\n",
       "  <thead>\n",
       "    <tr style=\"text-align: right;\">\n",
       "      <th></th>\n",
       "      <th>property_1</th>\n",
       "      <th>property_2</th>\n",
       "      <th>property_3</th>\n",
       "      <th>property_4</th>\n",
       "      <th>property_5</th>\n",
       "      <th>property_6</th>\n",
       "      <th>property_7</th>\n",
       "      <th>property_8</th>\n",
       "      <th>property_9</th>\n",
       "      <th>property_10</th>\n",
       "    </tr>\n",
       "    <tr>\n",
       "      <th>X_input</th>\n",
       "      <th></th>\n",
       "      <th></th>\n",
       "      <th></th>\n",
       "      <th></th>\n",
       "      <th></th>\n",
       "      <th></th>\n",
       "      <th></th>\n",
       "      <th></th>\n",
       "      <th></th>\n",
       "      <th></th>\n",
       "    </tr>\n",
       "  </thead>\n",
       "  <tbody>\n",
       "    <tr>\n",
       "      <th>-0.752759</th>\n",
       "      <td>-0.0</td>\n",
       "      <td>-0.000000</td>\n",
       "      <td>-0.0</td>\n",
       "      <td>-0.752759</td>\n",
       "      <td>-0.0</td>\n",
       "      <td>-0.000000</td>\n",
       "      <td>-0.000000</td>\n",
       "      <td>-0.000000</td>\n",
       "      <td>-0.000000</td>\n",
       "      <td>-0.000000</td>\n",
       "    </tr>\n",
       "    <tr>\n",
       "      <th>2.704286</th>\n",
       "      <td>0.0</td>\n",
       "      <td>0.000000</td>\n",
       "      <td>0.0</td>\n",
       "      <td>0.000000</td>\n",
       "      <td>0.0</td>\n",
       "      <td>0.000000</td>\n",
       "      <td>0.000000</td>\n",
       "      <td>0.000000</td>\n",
       "      <td>0.000000</td>\n",
       "      <td>2.704286</td>\n",
       "    </tr>\n",
       "    <tr>\n",
       "      <th>1.391964</th>\n",
       "      <td>0.0</td>\n",
       "      <td>0.000000</td>\n",
       "      <td>0.0</td>\n",
       "      <td>0.000000</td>\n",
       "      <td>0.0</td>\n",
       "      <td>0.000000</td>\n",
       "      <td>0.000000</td>\n",
       "      <td>1.391964</td>\n",
       "      <td>0.000000</td>\n",
       "      <td>0.000000</td>\n",
       "    </tr>\n",
       "    <tr>\n",
       "      <th>0.591951</th>\n",
       "      <td>0.0</td>\n",
       "      <td>0.000000</td>\n",
       "      <td>0.0</td>\n",
       "      <td>0.000000</td>\n",
       "      <td>0.0</td>\n",
       "      <td>0.000000</td>\n",
       "      <td>0.591951</td>\n",
       "      <td>0.000000</td>\n",
       "      <td>0.000000</td>\n",
       "      <td>0.000000</td>\n",
       "    </tr>\n",
       "    <tr>\n",
       "      <th>-2.063888</th>\n",
       "      <td>-0.0</td>\n",
       "      <td>-2.063888</td>\n",
       "      <td>-0.0</td>\n",
       "      <td>-0.000000</td>\n",
       "      <td>-0.0</td>\n",
       "      <td>-0.000000</td>\n",
       "      <td>-0.000000</td>\n",
       "      <td>-0.000000</td>\n",
       "      <td>-0.000000</td>\n",
       "      <td>-0.000000</td>\n",
       "    </tr>\n",
       "    <tr>\n",
       "      <th>...</th>\n",
       "      <td>...</td>\n",
       "      <td>...</td>\n",
       "      <td>...</td>\n",
       "      <td>...</td>\n",
       "      <td>...</td>\n",
       "      <td>...</td>\n",
       "      <td>...</td>\n",
       "      <td>...</td>\n",
       "      <td>...</td>\n",
       "      <td>...</td>\n",
       "    </tr>\n",
       "    <tr>\n",
       "      <th>2.228764</th>\n",
       "      <td>0.0</td>\n",
       "      <td>0.000000</td>\n",
       "      <td>0.0</td>\n",
       "      <td>0.000000</td>\n",
       "      <td>0.0</td>\n",
       "      <td>0.000000</td>\n",
       "      <td>0.000000</td>\n",
       "      <td>0.000000</td>\n",
       "      <td>2.228764</td>\n",
       "      <td>0.000000</td>\n",
       "    </tr>\n",
       "    <tr>\n",
       "      <th>1.822032</th>\n",
       "      <td>0.0</td>\n",
       "      <td>0.000000</td>\n",
       "      <td>0.0</td>\n",
       "      <td>0.000000</td>\n",
       "      <td>0.0</td>\n",
       "      <td>0.000000</td>\n",
       "      <td>0.000000</td>\n",
       "      <td>0.000000</td>\n",
       "      <td>1.822032</td>\n",
       "      <td>0.000000</td>\n",
       "    </tr>\n",
       "    <tr>\n",
       "      <th>-1.880580</th>\n",
       "      <td>-0.0</td>\n",
       "      <td>-1.880580</td>\n",
       "      <td>-0.0</td>\n",
       "      <td>-0.000000</td>\n",
       "      <td>-0.0</td>\n",
       "      <td>-0.000000</td>\n",
       "      <td>-0.000000</td>\n",
       "      <td>-0.000000</td>\n",
       "      <td>-0.000000</td>\n",
       "      <td>-0.000000</td>\n",
       "    </tr>\n",
       "    <tr>\n",
       "      <th>2.355354</th>\n",
       "      <td>0.0</td>\n",
       "      <td>0.000000</td>\n",
       "      <td>0.0</td>\n",
       "      <td>0.000000</td>\n",
       "      <td>0.0</td>\n",
       "      <td>0.000000</td>\n",
       "      <td>0.000000</td>\n",
       "      <td>0.000000</td>\n",
       "      <td>0.000000</td>\n",
       "      <td>2.355354</td>\n",
       "    </tr>\n",
       "    <tr>\n",
       "      <th>0.236053</th>\n",
       "      <td>0.0</td>\n",
       "      <td>0.000000</td>\n",
       "      <td>0.0</td>\n",
       "      <td>0.000000</td>\n",
       "      <td>0.0</td>\n",
       "      <td>0.236053</td>\n",
       "      <td>0.000000</td>\n",
       "      <td>0.000000</td>\n",
       "      <td>0.000000</td>\n",
       "      <td>0.000000</td>\n",
       "    </tr>\n",
       "  </tbody>\n",
       "</table>\n",
       "<p>120 rows × 10 columns</p>\n",
       "</div>"
      ],
      "text/plain": [
       "           property_1  property_2  property_3  property_4  property_5  \\\n",
       "X_input                                                                 \n",
       "-0.752759        -0.0   -0.000000        -0.0   -0.752759        -0.0   \n",
       " 2.704286         0.0    0.000000         0.0    0.000000         0.0   \n",
       " 1.391964         0.0    0.000000         0.0    0.000000         0.0   \n",
       " 0.591951         0.0    0.000000         0.0    0.000000         0.0   \n",
       "-2.063888        -0.0   -2.063888        -0.0   -0.000000        -0.0   \n",
       "...               ...         ...         ...         ...         ...   \n",
       " 2.228764         0.0    0.000000         0.0    0.000000         0.0   \n",
       " 1.822032         0.0    0.000000         0.0    0.000000         0.0   \n",
       "-1.880580        -0.0   -1.880580        -0.0   -0.000000        -0.0   \n",
       " 2.355354         0.0    0.000000         0.0    0.000000         0.0   \n",
       " 0.236053         0.0    0.000000         0.0    0.000000         0.0   \n",
       "\n",
       "           property_6  property_7  property_8  property_9  property_10  \n",
       "X_input                                                                 \n",
       "-0.752759   -0.000000   -0.000000   -0.000000   -0.000000    -0.000000  \n",
       " 2.704286    0.000000    0.000000    0.000000    0.000000     2.704286  \n",
       " 1.391964    0.000000    0.000000    1.391964    0.000000     0.000000  \n",
       " 0.591951    0.000000    0.591951    0.000000    0.000000     0.000000  \n",
       "-2.063888   -0.000000   -0.000000   -0.000000   -0.000000    -0.000000  \n",
       "...               ...         ...         ...         ...          ...  \n",
       " 2.228764    0.000000    0.000000    0.000000    2.228764     0.000000  \n",
       " 1.822032    0.000000    0.000000    0.000000    1.822032     0.000000  \n",
       "-1.880580   -0.000000   -0.000000   -0.000000   -0.000000    -0.000000  \n",
       " 2.355354    0.000000    0.000000    0.000000    0.000000     2.355354  \n",
       " 0.236053    0.236053    0.000000    0.000000    0.000000     0.000000  \n",
       "\n",
       "[120 rows x 10 columns]"
      ]
     },
     "execution_count": 33,
     "metadata": {},
     "output_type": "execute_result"
    }
   ],
   "source": [
    "df = pd.DataFrame(X*X_binned)\n",
    "df.columns = ['property_{0}'.format(i) for i in range(1,11)]\n",
    "df['X_input'] = X.copy().reshape(-1)\n",
    "df = df.set_index('X_input')\n",
    "df"
   ]
  },
  {
   "cell_type": "markdown",
   "metadata": {},
   "source": [
    "<br>\n",
    "\n",
    "아래는 이 데이터를 사용해 만든 선형 모델의 결과이다. <br>\n",
    "아래 그림에서 볼 수 있듯이 이 모델에서는 각 구간에서 절편과 기울기가 모두 다르다. "
   ]
  },
  {
   "cell_type": "code",
   "execution_count": 45,
   "metadata": {
    "ExecuteTime": {
     "end_time": "2021-01-10T13:13:57.684803Z",
     "start_time": "2021-01-10T13:13:57.591782Z"
    }
   },
   "outputs": [
    {
     "data": {
      "text/plain": [
       "[<matplotlib.lines.Line2D at 0x261aa66a788>]"
      ]
     },
     "execution_count": 45,
     "metadata": {},
     "output_type": "execute_result"
    },
    {
     "data": {
      "image/png": "[encoded data removed]",
      "text/plain": [
       "<Figure size 432x288 with 1 Axes>"
      ]
     },
     "metadata": {
      "needs_background": "light"
     },
     "output_type": "display_data"
    }
   ],
   "source": [
    "reg = LinearRegression().fit(X_product, y)\n",
    "\n",
    "line_product = np.hstack([line_binned, line*line_binned])\n",
    "plt.plot(line, reg.predict(line_product), label = '원본 특성을 곱한 선형 회귀')\n",
    "\n",
    "plt.vlines(kb.bin_edges_[0], -3, 3, linewidth=1, alpha=.2)\n",
    "plt.legend(loc = 'best')\n",
    "plt.ylabel('회귀 출력')\n",
    "plt.xlabel('입력 특성')\n",
    "plt.plot(X[:, 0], y, 'o', c='k')"
   ]
  },
  {
   "cell_type": "markdown",
   "metadata": {},
   "source": [
    "<br>\n",
    "\n",
    "---\n",
    "\n",
    "### 3) 다항식 ( feat. PolynomialFeatures )"
   ]
  },
  {
   "cell_type": "markdown",
   "metadata": {},
   "source": [
    "특성을 풍부하게 나타내는 또 하나의 방법에는 이전에 언급했던 것과 같이 `상호작용`뿐만 아니라 원본 특성의 `다항식`을 추가하는 방법도 있다. 예를 들자면, `x^2`, `x^3`, `x^4`와 같은 특성을 추가하는 것이다. 해당 방식은 `preprocessing` 모듈의 `PolynomialFeatures`에 구현되어있다. wave데이터셋에 `PolynomialFeatures`를 사용해보자."
   ]
  },
  {
   "cell_type": "code",
   "execution_count": 76,
   "metadata": {
    "ExecuteTime": {
     "end_time": "2021-01-10T13:41:05.152255Z",
     "start_time": "2021-01-10T13:41:05.148255Z"
    }
   },
   "outputs": [
    {
     "name": "stdout",
     "output_type": "stream",
     "text": [
      "X_poly.shape:  (120, 10)\n"
     ]
    }
   ],
   "source": [
    "from sklearn.preprocessing import PolynomialFeatures\n",
    "\n",
    "# x^10까지 고차항을 추가한다.\n",
    "# 기본값인 \"include_bias = True\"는 절편에 해당하는 1인 특성을 추가한다.\n",
    "poly = PolynomialFeatures(degree=10, include_bias=False)\n",
    "poly.fit(X)\n",
    "X_poly = poly.transform(X)\n",
    "\n",
    "# 10차원까지 고차항을 추가하였기 때문에 10개의 특성이 만들어진다.\n",
    "print(\"X_poly.shape: \", X_poly.shape)"
   ]
  },
  {
   "cell_type": "markdown",
   "metadata": {},
   "source": [
    "<br>\n",
    "\n",
    "X와 X_poly값을 비교하면 다음과 같다. index인 x_input은 기존 wave데이터셋의 데이터포인트를 의미하며, 각 열은 해당 데이터포인트의 거듭제곱을 나타낸다. 예를들어 x0의 경우 (x_input)^1, x0^2의 경우 (x_input)^2에 해당한다."
   ]
  },
  {
   "cell_type": "code",
   "execution_count": 81,
   "metadata": {
    "ExecuteTime": {
     "end_time": "2021-01-10T13:42:02.005984Z",
     "start_time": "2021-01-10T13:42:01.990980Z"
    }
   },
   "outputs": [
    {
     "data": {
      "text/html": [
       "<div>\n",
       "<style scoped>\n",
       "    .dataframe tbody tr th:only-of-type {\n",
       "        vertical-align: middle;\n",
       "    }\n",
       "\n",
       "    .dataframe tbody tr th {\n",
       "        vertical-align: top;\n",
       "    }\n",
       "\n",
       "    .dataframe thead th {\n",
       "        text-align: right;\n",
       "    }\n",
       "</style>\n",
       "<table border=\"1\" class=\"dataframe\">\n",
       "  <thead>\n",
       "    <tr style=\"text-align: right;\">\n",
       "      <th></th>\n",
       "      <th>x0</th>\n",
       "      <th>x0^2</th>\n",
       "      <th>x0^3</th>\n",
       "      <th>x0^4</th>\n",
       "      <th>x0^5</th>\n",
       "      <th>x0^6</th>\n",
       "      <th>x0^7</th>\n",
       "      <th>x0^8</th>\n",
       "      <th>x0^9</th>\n",
       "      <th>x0^10</th>\n",
       "    </tr>\n",
       "    <tr>\n",
       "      <th>x_input</th>\n",
       "      <th></th>\n",
       "      <th></th>\n",
       "      <th></th>\n",
       "      <th></th>\n",
       "      <th></th>\n",
       "      <th></th>\n",
       "      <th></th>\n",
       "      <th></th>\n",
       "      <th></th>\n",
       "      <th></th>\n",
       "    </tr>\n",
       "  </thead>\n",
       "  <tbody>\n",
       "    <tr>\n",
       "      <th>-0.752759</th>\n",
       "      <td>-0.752759</td>\n",
       "      <td>0.566647</td>\n",
       "      <td>-0.426548</td>\n",
       "      <td>0.321088</td>\n",
       "      <td>-0.241702</td>\n",
       "      <td>0.181944</td>\n",
       "      <td>-0.136960</td>\n",
       "      <td>0.103098</td>\n",
       "      <td>-0.077608</td>\n",
       "      <td>5.841996e-02</td>\n",
       "    </tr>\n",
       "    <tr>\n",
       "      <th>2.704286</th>\n",
       "      <td>2.704286</td>\n",
       "      <td>7.313162</td>\n",
       "      <td>19.776880</td>\n",
       "      <td>53.482337</td>\n",
       "      <td>144.631526</td>\n",
       "      <td>391.124988</td>\n",
       "      <td>1057.713767</td>\n",
       "      <td>2860.360362</td>\n",
       "      <td>7735.232021</td>\n",
       "      <td>2.091828e+04</td>\n",
       "    </tr>\n",
       "    <tr>\n",
       "      <th>1.391964</th>\n",
       "      <td>1.391964</td>\n",
       "      <td>1.937563</td>\n",
       "      <td>2.697017</td>\n",
       "      <td>3.754150</td>\n",
       "      <td>5.225640</td>\n",
       "      <td>7.273901</td>\n",
       "      <td>10.125005</td>\n",
       "      <td>14.093639</td>\n",
       "      <td>19.617834</td>\n",
       "      <td>2.730731e+01</td>\n",
       "    </tr>\n",
       "    <tr>\n",
       "      <th>0.591951</th>\n",
       "      <td>0.591951</td>\n",
       "      <td>0.350406</td>\n",
       "      <td>0.207423</td>\n",
       "      <td>0.122784</td>\n",
       "      <td>0.072682</td>\n",
       "      <td>0.043024</td>\n",
       "      <td>0.025468</td>\n",
       "      <td>0.015076</td>\n",
       "      <td>0.008924</td>\n",
       "      <td>5.282711e-03</td>\n",
       "    </tr>\n",
       "    <tr>\n",
       "      <th>-2.063888</th>\n",
       "      <td>-2.063888</td>\n",
       "      <td>4.259634</td>\n",
       "      <td>-8.791409</td>\n",
       "      <td>18.144485</td>\n",
       "      <td>-37.448187</td>\n",
       "      <td>77.288869</td>\n",
       "      <td>-159.515582</td>\n",
       "      <td>329.222321</td>\n",
       "      <td>-679.478050</td>\n",
       "      <td>1.402367e+03</td>\n",
       "    </tr>\n",
       "    <tr>\n",
       "      <th>...</th>\n",
       "      <td>...</td>\n",
       "      <td>...</td>\n",
       "      <td>...</td>\n",
       "      <td>...</td>\n",
       "      <td>...</td>\n",
       "      <td>...</td>\n",
       "      <td>...</td>\n",
       "      <td>...</td>\n",
       "      <td>...</td>\n",
       "      <td>...</td>\n",
       "    </tr>\n",
       "    <tr>\n",
       "      <th>2.228764</th>\n",
       "      <td>2.228764</td>\n",
       "      <td>4.967387</td>\n",
       "      <td>11.071131</td>\n",
       "      <td>24.674933</td>\n",
       "      <td>54.994591</td>\n",
       "      <td>122.569939</td>\n",
       "      <td>273.179411</td>\n",
       "      <td>608.852310</td>\n",
       "      <td>1356.987831</td>\n",
       "      <td>3.024405e+03</td>\n",
       "    </tr>\n",
       "    <tr>\n",
       "      <th>1.822032</th>\n",
       "      <td>1.822032</td>\n",
       "      <td>3.319802</td>\n",
       "      <td>6.048788</td>\n",
       "      <td>11.021087</td>\n",
       "      <td>20.080779</td>\n",
       "      <td>36.587831</td>\n",
       "      <td>66.664215</td>\n",
       "      <td>121.464364</td>\n",
       "      <td>221.312014</td>\n",
       "      <td>4.032377e+02</td>\n",
       "    </tr>\n",
       "    <tr>\n",
       "      <th>-1.880580</th>\n",
       "      <td>-1.880580</td>\n",
       "      <td>3.536580</td>\n",
       "      <td>-6.650820</td>\n",
       "      <td>12.507397</td>\n",
       "      <td>-23.521156</td>\n",
       "      <td>44.233407</td>\n",
       "      <td>-83.184444</td>\n",
       "      <td>156.434973</td>\n",
       "      <td>-294.188426</td>\n",
       "      <td>5.532448e+02</td>\n",
       "    </tr>\n",
       "    <tr>\n",
       "      <th>2.355354</th>\n",
       "      <td>2.355354</td>\n",
       "      <td>5.547692</td>\n",
       "      <td>13.066779</td>\n",
       "      <td>30.776891</td>\n",
       "      <td>72.490474</td>\n",
       "      <td>170.740726</td>\n",
       "      <td>402.154851</td>\n",
       "      <td>947.217033</td>\n",
       "      <td>2231.031419</td>\n",
       "      <td>5.254869e+03</td>\n",
       "    </tr>\n",
       "    <tr>\n",
       "      <th>0.236053</th>\n",
       "      <td>0.236053</td>\n",
       "      <td>0.055721</td>\n",
       "      <td>0.013153</td>\n",
       "      <td>0.003105</td>\n",
       "      <td>0.000733</td>\n",
       "      <td>0.000173</td>\n",
       "      <td>0.000041</td>\n",
       "      <td>0.000010</td>\n",
       "      <td>0.000002</td>\n",
       "      <td>5.371599e-07</td>\n",
       "    </tr>\n",
       "  </tbody>\n",
       "</table>\n",
       "<p>120 rows × 10 columns</p>\n",
       "</div>"
      ],
      "text/plain": [
       "                 x0      x0^2       x0^3       x0^4        x0^5        x0^6  \\\n",
       "x_input                                                                       \n",
       "-0.752759 -0.752759  0.566647  -0.426548   0.321088   -0.241702    0.181944   \n",
       " 2.704286  2.704286  7.313162  19.776880  53.482337  144.631526  391.124988   \n",
       " 1.391964  1.391964  1.937563   2.697017   3.754150    5.225640    7.273901   \n",
       " 0.591951  0.591951  0.350406   0.207423   0.122784    0.072682    0.043024   \n",
       "-2.063888 -2.063888  4.259634  -8.791409  18.144485  -37.448187   77.288869   \n",
       "...             ...       ...        ...        ...         ...         ...   \n",
       " 2.228764  2.228764  4.967387  11.071131  24.674933   54.994591  122.569939   \n",
       " 1.822032  1.822032  3.319802   6.048788  11.021087   20.080779   36.587831   \n",
       "-1.880580 -1.880580  3.536580  -6.650820  12.507397  -23.521156   44.233407   \n",
       " 2.355354  2.355354  5.547692  13.066779  30.776891   72.490474  170.740726   \n",
       " 0.236053  0.236053  0.055721   0.013153   0.003105    0.000733    0.000173   \n",
       "\n",
       "                  x0^7         x0^8         x0^9         x0^10  \n",
       "x_input                                                         \n",
       "-0.752759    -0.136960     0.103098    -0.077608  5.841996e-02  \n",
       " 2.704286  1057.713767  2860.360362  7735.232021  2.091828e+04  \n",
       " 1.391964    10.125005    14.093639    19.617834  2.730731e+01  \n",
       " 0.591951     0.025468     0.015076     0.008924  5.282711e-03  \n",
       "-2.063888  -159.515582   329.222321  -679.478050  1.402367e+03  \n",
       "...                ...          ...          ...           ...  \n",
       " 2.228764   273.179411   608.852310  1356.987831  3.024405e+03  \n",
       " 1.822032    66.664215   121.464364   221.312014  4.032377e+02  \n",
       "-1.880580   -83.184444   156.434973  -294.188426  5.532448e+02  \n",
       " 2.355354   402.154851   947.217033  2231.031419  5.254869e+03  \n",
       " 0.236053     0.000041     0.000010     0.000002  5.371599e-07  \n",
       "\n",
       "[120 rows x 10 columns]"
      ]
     },
     "execution_count": 81,
     "metadata": {},
     "output_type": "execute_result"
    }
   ],
   "source": [
    "df_poly = pd.DataFrame(X_poly)\n",
    "df_poly['x_input'] = X\n",
    "\n",
    "#각 특성의 차수를 알려주는 get_feature_names메서드를 사용해 특성의 의미를 알 수 있다.\n",
    "column_name = poly.get_feature_names()\n",
    "column_name.append('x_input')\n",
    "df_poly.columns = column_name\n",
    "\n",
    "df_poly = df_poly.set_index('x_input')\n",
    "df_poly"
   ]
  },
  {
   "cell_type": "markdown",
   "metadata": {},
   "source": [
    "<br>\n",
    "\n",
    "위와 같은 `다항식 특성`을 `선형 모델`과 함께 사용하면 전형적인 `다항 회귀(polynomial regression)`모델이 된다. 다항식 특성은 1차원 데이터셋에서도 매우 부드러운 곡선을 만든다. 그러나 <u>(주의) 고차원 다항식은 데이터가 부족한 영역에서는 너무 민감하게 동작할 때가 있다</u>. "
   ]
  },
  {
   "cell_type": "code",
   "execution_count": 85,
   "metadata": {
    "ExecuteTime": {
     "end_time": "2021-01-10T13:56:30.195417Z",
     "start_time": "2021-01-10T13:56:30.010376Z"
    },
    "scrolled": false
   },
   "outputs": [
    {
     "data": {
      "image/png": "[encoded data removed]",
      "text/plain": [
       "<Figure size 432x288 with 1 Axes>"
      ]
     },
     "metadata": {
      "needs_background": "light"
     },
     "output_type": "display_data"
    },
    {
     "data": {
      "image/png": "[encoded data removed]",
      "text/plain": [
       "<Figure size 432x288 with 1 Axes>"
      ]
     },
     "metadata": {
      "needs_background": "light"
     },
     "output_type": "display_data"
    }
   ],
   "source": [
    "reg = LinearRegression().fit(X_poly, y)\n",
    "\n",
    "line_poly = poly.transform(line)\n",
    "plt.plot(line, reg.predict(line_poly), label = '다항 회귀')\n",
    "plt.plot(X[:, 0], y, 'o', c='k')\n",
    "plt.legend(loc = 'best')\n",
    "plt.ylabel('회귀 출력')\n",
    "plt.xlabel('입력 특성')\n",
    "plt.show()\n",
    "\n",
    "\n",
    "# 비교를 위해 아무런 변환도 거치지 않은 원본 데이터에 `커널SVM`모델을 학습시켜보았다.\n",
    "from sklearn.svm import SVR\n",
    "\n",
    "for gamma in [1, 10]:\n",
    "    svr = SVR(gamma = gamma).fit(X, y)\n",
    "    plt.plot(line, svr.predict(line), label = 'SVR gamma={0}'.format(gamma))\n",
    "\n",
    "plt.plot(X[:, 0], y, 'o', c='k')\n",
    "plt.legend(loc = 'best')\n",
    "plt.ylabel('회귀 출력')\n",
    "plt.xlabel('입력 특성')\n",
    "plt.show()"
   ]
  },
  {
   "cell_type": "markdown",
   "metadata": {},
   "source": [
    "<br>\n",
    "\n",
    "### 4) 상호작용/다항식 적용 : 보스턴 주택 가격 데이터셋"
   ]
  },
  {
   "cell_type": "markdown",
   "metadata": {},
   "source": [
    "`상호작용`과 `다항식`을 실제로 적용해보기 위해 보스턴 주택 가격 데이터셋을 이용할 것이다."
   ]
  },
  {
   "cell_type": "code",
   "execution_count": 103,
   "metadata": {
    "ExecuteTime": {
     "end_time": "2021-01-10T14:15:46.783123Z",
     "start_time": "2021-01-10T14:15:46.761118Z"
    }
   },
   "outputs": [
    {
     "data": {
      "text/html": [
       "<div>\n",
       "<style scoped>\n",
       "    .dataframe tbody tr th:only-of-type {\n",
       "        vertical-align: middle;\n",
       "    }\n",
       "\n",
       "    .dataframe tbody tr th {\n",
       "        vertical-align: top;\n",
       "    }\n",
       "\n",
       "    .dataframe thead th {\n",
       "        text-align: right;\n",
       "    }\n",
       "</style>\n",
       "<table border=\"1\" class=\"dataframe\">\n",
       "  <thead>\n",
       "    <tr style=\"text-align: right;\">\n",
       "      <th></th>\n",
       "      <th>0</th>\n",
       "      <th>1</th>\n",
       "      <th>2</th>\n",
       "      <th>3</th>\n",
       "      <th>4</th>\n",
       "      <th>5</th>\n",
       "      <th>6</th>\n",
       "      <th>7</th>\n",
       "      <th>8</th>\n",
       "      <th>9</th>\n",
       "      <th>10</th>\n",
       "      <th>11</th>\n",
       "      <th>12</th>\n",
       "    </tr>\n",
       "    <tr>\n",
       "      <th>target</th>\n",
       "      <th></th>\n",
       "      <th></th>\n",
       "      <th></th>\n",
       "      <th></th>\n",
       "      <th></th>\n",
       "      <th></th>\n",
       "      <th></th>\n",
       "      <th></th>\n",
       "      <th></th>\n",
       "      <th></th>\n",
       "      <th></th>\n",
       "      <th></th>\n",
       "      <th></th>\n",
       "    </tr>\n",
       "  </thead>\n",
       "  <tbody>\n",
       "    <tr>\n",
       "      <th>24.0</th>\n",
       "      <td>0.00632</td>\n",
       "      <td>18.0</td>\n",
       "      <td>2.31</td>\n",
       "      <td>0.0</td>\n",
       "      <td>0.538</td>\n",
       "      <td>6.575</td>\n",
       "      <td>65.2</td>\n",
       "      <td>4.0900</td>\n",
       "      <td>1.0</td>\n",
       "      <td>296.0</td>\n",
       "      <td>15.3</td>\n",
       "      <td>396.90</td>\n",
       "      <td>4.98</td>\n",
       "    </tr>\n",
       "    <tr>\n",
       "      <th>21.6</th>\n",
       "      <td>0.02731</td>\n",
       "      <td>0.0</td>\n",
       "      <td>7.07</td>\n",
       "      <td>0.0</td>\n",
       "      <td>0.469</td>\n",
       "      <td>6.421</td>\n",
       "      <td>78.9</td>\n",
       "      <td>4.9671</td>\n",
       "      <td>2.0</td>\n",
       "      <td>242.0</td>\n",
       "      <td>17.8</td>\n",
       "      <td>396.90</td>\n",
       "      <td>9.14</td>\n",
       "    </tr>\n",
       "    <tr>\n",
       "      <th>34.7</th>\n",
       "      <td>0.02729</td>\n",
       "      <td>0.0</td>\n",
       "      <td>7.07</td>\n",
       "      <td>0.0</td>\n",
       "      <td>0.469</td>\n",
       "      <td>7.185</td>\n",
       "      <td>61.1</td>\n",
       "      <td>4.9671</td>\n",
       "      <td>2.0</td>\n",
       "      <td>242.0</td>\n",
       "      <td>17.8</td>\n",
       "      <td>392.83</td>\n",
       "      <td>4.03</td>\n",
       "    </tr>\n",
       "    <tr>\n",
       "      <th>33.4</th>\n",
       "      <td>0.03237</td>\n",
       "      <td>0.0</td>\n",
       "      <td>2.18</td>\n",
       "      <td>0.0</td>\n",
       "      <td>0.458</td>\n",
       "      <td>6.998</td>\n",
       "      <td>45.8</td>\n",
       "      <td>6.0622</td>\n",
       "      <td>3.0</td>\n",
       "      <td>222.0</td>\n",
       "      <td>18.7</td>\n",
       "      <td>394.63</td>\n",
       "      <td>2.94</td>\n",
       "    </tr>\n",
       "    <tr>\n",
       "      <th>36.2</th>\n",
       "      <td>0.06905</td>\n",
       "      <td>0.0</td>\n",
       "      <td>2.18</td>\n",
       "      <td>0.0</td>\n",
       "      <td>0.458</td>\n",
       "      <td>7.147</td>\n",
       "      <td>54.2</td>\n",
       "      <td>6.0622</td>\n",
       "      <td>3.0</td>\n",
       "      <td>222.0</td>\n",
       "      <td>18.7</td>\n",
       "      <td>396.90</td>\n",
       "      <td>5.33</td>\n",
       "    </tr>\n",
       "    <tr>\n",
       "      <th>...</th>\n",
       "      <td>...</td>\n",
       "      <td>...</td>\n",
       "      <td>...</td>\n",
       "      <td>...</td>\n",
       "      <td>...</td>\n",
       "      <td>...</td>\n",
       "      <td>...</td>\n",
       "      <td>...</td>\n",
       "      <td>...</td>\n",
       "      <td>...</td>\n",
       "      <td>...</td>\n",
       "      <td>...</td>\n",
       "      <td>...</td>\n",
       "    </tr>\n",
       "    <tr>\n",
       "      <th>22.4</th>\n",
       "      <td>0.06263</td>\n",
       "      <td>0.0</td>\n",
       "      <td>11.93</td>\n",
       "      <td>0.0</td>\n",
       "      <td>0.573</td>\n",
       "      <td>6.593</td>\n",
       "      <td>69.1</td>\n",
       "      <td>2.4786</td>\n",
       "      <td>1.0</td>\n",
       "      <td>273.0</td>\n",
       "      <td>21.0</td>\n",
       "      <td>391.99</td>\n",
       "      <td>9.67</td>\n",
       "    </tr>\n",
       "    <tr>\n",
       "      <th>20.6</th>\n",
       "      <td>0.04527</td>\n",
       "      <td>0.0</td>\n",
       "      <td>11.93</td>\n",
       "      <td>0.0</td>\n",
       "      <td>0.573</td>\n",
       "      <td>6.120</td>\n",
       "      <td>76.7</td>\n",
       "      <td>2.2875</td>\n",
       "      <td>1.0</td>\n",
       "      <td>273.0</td>\n",
       "      <td>21.0</td>\n",
       "      <td>396.90</td>\n",
       "      <td>9.08</td>\n",
       "    </tr>\n",
       "    <tr>\n",
       "      <th>23.9</th>\n",
       "      <td>0.06076</td>\n",
       "      <td>0.0</td>\n",
       "      <td>11.93</td>\n",
       "      <td>0.0</td>\n",
       "      <td>0.573</td>\n",
       "      <td>6.976</td>\n",
       "      <td>91.0</td>\n",
       "      <td>2.1675</td>\n",
       "      <td>1.0</td>\n",
       "      <td>273.0</td>\n",
       "      <td>21.0</td>\n",
       "      <td>396.90</td>\n",
       "      <td>5.64</td>\n",
       "    </tr>\n",
       "    <tr>\n",
       "      <th>22.0</th>\n",
       "      <td>0.10959</td>\n",
       "      <td>0.0</td>\n",
       "      <td>11.93</td>\n",
       "      <td>0.0</td>\n",
       "      <td>0.573</td>\n",
       "      <td>6.794</td>\n",
       "      <td>89.3</td>\n",
       "      <td>2.3889</td>\n",
       "      <td>1.0</td>\n",
       "      <td>273.0</td>\n",
       "      <td>21.0</td>\n",
       "      <td>393.45</td>\n",
       "      <td>6.48</td>\n",
       "    </tr>\n",
       "    <tr>\n",
       "      <th>11.9</th>\n",
       "      <td>0.04741</td>\n",
       "      <td>0.0</td>\n",
       "      <td>11.93</td>\n",
       "      <td>0.0</td>\n",
       "      <td>0.573</td>\n",
       "      <td>6.030</td>\n",
       "      <td>80.8</td>\n",
       "      <td>2.5050</td>\n",
       "      <td>1.0</td>\n",
       "      <td>273.0</td>\n",
       "      <td>21.0</td>\n",
       "      <td>396.90</td>\n",
       "      <td>7.88</td>\n",
       "    </tr>\n",
       "  </tbody>\n",
       "</table>\n",
       "<p>506 rows × 13 columns</p>\n",
       "</div>"
      ],
      "text/plain": [
       "             0     1      2    3      4      5     6       7    8      9   \\\n",
       "target                                                                      \n",
       "24.0    0.00632  18.0   2.31  0.0  0.538  6.575  65.2  4.0900  1.0  296.0   \n",
       "21.6    0.02731   0.0   7.07  0.0  0.469  6.421  78.9  4.9671  2.0  242.0   \n",
       "34.7    0.02729   0.0   7.07  0.0  0.469  7.185  61.1  4.9671  2.0  242.0   \n",
       "33.4    0.03237   0.0   2.18  0.0  0.458  6.998  45.8  6.0622  3.0  222.0   \n",
       "36.2    0.06905   0.0   2.18  0.0  0.458  7.147  54.2  6.0622  3.0  222.0   \n",
       "...         ...   ...    ...  ...    ...    ...   ...     ...  ...    ...   \n",
       "22.4    0.06263   0.0  11.93  0.0  0.573  6.593  69.1  2.4786  1.0  273.0   \n",
       "20.6    0.04527   0.0  11.93  0.0  0.573  6.120  76.7  2.2875  1.0  273.0   \n",
       "23.9    0.06076   0.0  11.93  0.0  0.573  6.976  91.0  2.1675  1.0  273.0   \n",
       "22.0    0.10959   0.0  11.93  0.0  0.573  6.794  89.3  2.3889  1.0  273.0   \n",
       "11.9    0.04741   0.0  11.93  0.0  0.573  6.030  80.8  2.5050  1.0  273.0   \n",
       "\n",
       "          10      11    12  \n",
       "target                      \n",
       "24.0    15.3  396.90  4.98  \n",
       "21.6    17.8  396.90  9.14  \n",
       "34.7    17.8  392.83  4.03  \n",
       "33.4    18.7  394.63  2.94  \n",
       "36.2    18.7  396.90  5.33  \n",
       "...      ...     ...   ...  \n",
       "22.4    21.0  391.99  9.67  \n",
       "20.6    21.0  396.90  9.08  \n",
       "23.9    21.0  396.90  5.64  \n",
       "22.0    21.0  393.45  6.48  \n",
       "11.9    21.0  396.90  7.88  \n",
       "\n",
       "[506 rows x 13 columns]"
      ]
     },
     "execution_count": 103,
     "metadata": {},
     "output_type": "execute_result"
    }
   ],
   "source": [
    "from sklearn.datasets import load_boston\n",
    "from sklearn.model_selection import train_test_split\n",
    "\n",
    "# 데이터 로드\n",
    "boston = load_boston()\n",
    "\n",
    "# test데이터셋 train데이터셋 분류 \n",
    "X_train, X_test, y_train, y_test = train_test_split(boston.data, boston.target, random_state = 0)\n",
    "\n",
    "df_boston = pd.DataFrame(boston.data)\n",
    "df_boston['target'] = boston.target\n",
    "df_boston = df_boston.set_index('target')\n",
    "df_boston"
   ]
  },
  {
   "cell_type": "markdown",
   "metadata": {},
   "source": [
    "<br>\n",
    "\n",
    "먼저 `MinMaxScaler`를 사용해 스케일을 0에서 1사이로 조정한다."
   ]
  },
  {
   "cell_type": "code",
   "execution_count": 105,
   "metadata": {
    "ExecuteTime": {
     "end_time": "2021-01-10T14:16:08.961088Z",
     "start_time": "2021-01-10T14:16:08.944084Z"
    }
   },
   "outputs": [
    {
     "data": {
      "text/html": [
       "<div>\n",
       "<style scoped>\n",
       "    .dataframe tbody tr th:only-of-type {\n",
       "        vertical-align: middle;\n",
       "    }\n",
       "\n",
       "    .dataframe tbody tr th {\n",
       "        vertical-align: top;\n",
       "    }\n",
       "\n",
       "    .dataframe thead th {\n",
       "        text-align: right;\n",
       "    }\n",
       "</style>\n",
       "<table border=\"1\" class=\"dataframe\">\n",
       "  <thead>\n",
       "    <tr style=\"text-align: right;\">\n",
       "      <th></th>\n",
       "      <th>0</th>\n",
       "      <th>1</th>\n",
       "      <th>2</th>\n",
       "      <th>3</th>\n",
       "      <th>4</th>\n",
       "      <th>5</th>\n",
       "      <th>6</th>\n",
       "      <th>7</th>\n",
       "      <th>8</th>\n",
       "      <th>9</th>\n",
       "      <th>10</th>\n",
       "      <th>11</th>\n",
       "      <th>12</th>\n",
       "    </tr>\n",
       "    <tr>\n",
       "      <th>train_target</th>\n",
       "      <th></th>\n",
       "      <th></th>\n",
       "      <th></th>\n",
       "      <th></th>\n",
       "      <th></th>\n",
       "      <th></th>\n",
       "      <th></th>\n",
       "      <th></th>\n",
       "      <th></th>\n",
       "      <th></th>\n",
       "      <th></th>\n",
       "      <th></th>\n",
       "      <th></th>\n",
       "    </tr>\n",
       "  </thead>\n",
       "  <tbody>\n",
       "    <tr>\n",
       "      <th>18.5</th>\n",
       "      <td>0.002079</td>\n",
       "      <td>0.22</td>\n",
       "      <td>0.197947</td>\n",
       "      <td>0.0</td>\n",
       "      <td>0.094650</td>\n",
       "      <td>0.391646</td>\n",
       "      <td>0.693100</td>\n",
       "      <td>0.619112</td>\n",
       "      <td>0.260870</td>\n",
       "      <td>0.272901</td>\n",
       "      <td>0.691489</td>\n",
       "      <td>0.980407</td>\n",
       "      <td>0.474610</td>\n",
       "    </tr>\n",
       "    <tr>\n",
       "      <th>19.6</th>\n",
       "      <td>0.001090</td>\n",
       "      <td>0.25</td>\n",
       "      <td>0.171188</td>\n",
       "      <td>0.0</td>\n",
       "      <td>0.139918</td>\n",
       "      <td>0.453344</td>\n",
       "      <td>0.456231</td>\n",
       "      <td>0.525716</td>\n",
       "      <td>0.304348</td>\n",
       "      <td>0.185115</td>\n",
       "      <td>0.755319</td>\n",
       "      <td>1.000000</td>\n",
       "      <td>0.212482</td>\n",
       "    </tr>\n",
       "    <tr>\n",
       "      <th>33.2</th>\n",
       "      <td>0.001106</td>\n",
       "      <td>0.40</td>\n",
       "      <td>0.218109</td>\n",
       "      <td>1.0</td>\n",
       "      <td>0.127572</td>\n",
       "      <td>0.710098</td>\n",
       "      <td>0.474768</td>\n",
       "      <td>0.329885</td>\n",
       "      <td>0.130435</td>\n",
       "      <td>0.127863</td>\n",
       "      <td>0.531915</td>\n",
       "      <td>0.980710</td>\n",
       "      <td>0.122553</td>\n",
       "    </tr>\n",
       "    <tr>\n",
       "      <th>13.1</th>\n",
       "      <td>0.097903</td>\n",
       "      <td>0.00</td>\n",
       "      <td>0.646628</td>\n",
       "      <td>0.0</td>\n",
       "      <td>0.633745</td>\n",
       "      <td>0.557578</td>\n",
       "      <td>0.987642</td>\n",
       "      <td>0.050355</td>\n",
       "      <td>1.000000</td>\n",
       "      <td>0.914122</td>\n",
       "      <td>0.808511</td>\n",
       "      <td>0.987594</td>\n",
       "      <td>0.436596</td>\n",
       "    </tr>\n",
       "    <tr>\n",
       "      <th>7.5</th>\n",
       "      <td>0.121703</td>\n",
       "      <td>0.00</td>\n",
       "      <td>0.646628</td>\n",
       "      <td>0.0</td>\n",
       "      <td>0.604938</td>\n",
       "      <td>0.617168</td>\n",
       "      <td>0.905252</td>\n",
       "      <td>0.058919</td>\n",
       "      <td>1.000000</td>\n",
       "      <td>0.914122</td>\n",
       "      <td>0.808511</td>\n",
       "      <td>0.053583</td>\n",
       "      <td>0.682553</td>\n",
       "    </tr>\n",
       "    <tr>\n",
       "      <th>...</th>\n",
       "      <td>...</td>\n",
       "      <td>...</td>\n",
       "      <td>...</td>\n",
       "      <td>...</td>\n",
       "      <td>...</td>\n",
       "      <td>...</td>\n",
       "      <td>...</td>\n",
       "      <td>...</td>\n",
       "      <td>...</td>\n",
       "      <td>...</td>\n",
       "      <td>...</td>\n",
       "      <td>...</td>\n",
       "      <td>...</td>\n",
       "    </tr>\n",
       "    <tr>\n",
       "      <th>18.5</th>\n",
       "      <td>0.003120</td>\n",
       "      <td>0.00</td>\n",
       "      <td>0.253666</td>\n",
       "      <td>0.0</td>\n",
       "      <td>0.222222</td>\n",
       "      <td>0.411381</td>\n",
       "      <td>0.735324</td>\n",
       "      <td>0.323850</td>\n",
       "      <td>0.173913</td>\n",
       "      <td>0.190840</td>\n",
       "      <td>0.744681</td>\n",
       "      <td>0.985451</td>\n",
       "      <td>0.283972</td>\n",
       "    </tr>\n",
       "    <tr>\n",
       "      <th>36.4</th>\n",
       "      <td>0.000903</td>\n",
       "      <td>0.45</td>\n",
       "      <td>0.109238</td>\n",
       "      <td>0.0</td>\n",
       "      <td>0.106996</td>\n",
       "      <td>0.693045</td>\n",
       "      <td>0.240989</td>\n",
       "      <td>0.484428</td>\n",
       "      <td>0.173913</td>\n",
       "      <td>0.402672</td>\n",
       "      <td>0.276596</td>\n",
       "      <td>0.983837</td>\n",
       "      <td>0.032340</td>\n",
       "    </tr>\n",
       "    <tr>\n",
       "      <th>19.2</th>\n",
       "      <td>0.001626</td>\n",
       "      <td>0.00</td>\n",
       "      <td>0.350073</td>\n",
       "      <td>0.0</td>\n",
       "      <td>0.333333</td>\n",
       "      <td>0.471355</td>\n",
       "      <td>0.820803</td>\n",
       "      <td>0.143641</td>\n",
       "      <td>0.217391</td>\n",
       "      <td>0.467557</td>\n",
       "      <td>0.553191</td>\n",
       "      <td>0.993973</td>\n",
       "      <td>0.243121</td>\n",
       "    </tr>\n",
       "    <tr>\n",
       "      <th>16.6</th>\n",
       "      <td>0.002506</td>\n",
       "      <td>0.00</td>\n",
       "      <td>0.236437</td>\n",
       "      <td>0.0</td>\n",
       "      <td>0.129630</td>\n",
       "      <td>0.473079</td>\n",
       "      <td>0.850669</td>\n",
       "      <td>0.412260</td>\n",
       "      <td>0.086957</td>\n",
       "      <td>0.087786</td>\n",
       "      <td>0.563830</td>\n",
       "      <td>0.989510</td>\n",
       "      <td>0.484255</td>\n",
       "    </tr>\n",
       "    <tr>\n",
       "      <th>23.1</th>\n",
       "      <td>0.001493</td>\n",
       "      <td>0.00</td>\n",
       "      <td>0.131598</td>\n",
       "      <td>0.0</td>\n",
       "      <td>0.257202</td>\n",
       "      <td>0.385323</td>\n",
       "      <td>0.881565</td>\n",
       "      <td>0.129827</td>\n",
       "      <td>0.173913</td>\n",
       "      <td>0.208015</td>\n",
       "      <td>0.425532</td>\n",
       "      <td>1.000000</td>\n",
       "      <td>0.367660</td>\n",
       "    </tr>\n",
       "  </tbody>\n",
       "</table>\n",
       "<p>379 rows × 13 columns</p>\n",
       "</div>"
      ],
      "text/plain": [
       "                    0     1         2    3         4         5         6   \\\n",
       "train_target                                                                \n",
       "18.5          0.002079  0.22  0.197947  0.0  0.094650  0.391646  0.693100   \n",
       "19.6          0.001090  0.25  0.171188  0.0  0.139918  0.453344  0.456231   \n",
       "33.2          0.001106  0.40  0.218109  1.0  0.127572  0.710098  0.474768   \n",
       "13.1          0.097903  0.00  0.646628  0.0  0.633745  0.557578  0.987642   \n",
       "7.5           0.121703  0.00  0.646628  0.0  0.604938  0.617168  0.905252   \n",
       "...                ...   ...       ...  ...       ...       ...       ...   \n",
       "18.5          0.003120  0.00  0.253666  0.0  0.222222  0.411381  0.735324   \n",
       "36.4          0.000903  0.45  0.109238  0.0  0.106996  0.693045  0.240989   \n",
       "19.2          0.001626  0.00  0.350073  0.0  0.333333  0.471355  0.820803   \n",
       "16.6          0.002506  0.00  0.236437  0.0  0.129630  0.473079  0.850669   \n",
       "23.1          0.001493  0.00  0.131598  0.0  0.257202  0.385323  0.881565   \n",
       "\n",
       "                    7         8         9         10        11        12  \n",
       "train_target                                                              \n",
       "18.5          0.619112  0.260870  0.272901  0.691489  0.980407  0.474610  \n",
       "19.6          0.525716  0.304348  0.185115  0.755319  1.000000  0.212482  \n",
       "33.2          0.329885  0.130435  0.127863  0.531915  0.980710  0.122553  \n",
       "13.1          0.050355  1.000000  0.914122  0.808511  0.987594  0.436596  \n",
       "7.5           0.058919  1.000000  0.914122  0.808511  0.053583  0.682553  \n",
       "...                ...       ...       ...       ...       ...       ...  \n",
       "18.5          0.323850  0.173913  0.190840  0.744681  0.985451  0.283972  \n",
       "36.4          0.484428  0.173913  0.402672  0.276596  0.983837  0.032340  \n",
       "19.2          0.143641  0.217391  0.467557  0.553191  0.993973  0.243121  \n",
       "16.6          0.412260  0.086957  0.087786  0.563830  0.989510  0.484255  \n",
       "23.1          0.129827  0.173913  0.208015  0.425532  1.000000  0.367660  \n",
       "\n",
       "[379 rows x 13 columns]"
      ]
     },
     "execution_count": 105,
     "metadata": {},
     "output_type": "execute_result"
    }
   ],
   "source": [
    "from sklearn.preprocessing import MinMaxScaler\n",
    "\n",
    "scaler = MinMaxScaler()\n",
    "X_train_scaled = scaler.fit_transform(X_train)\n",
    "X_test_scaled = scaler.fit_transform(X_test)\n",
    "\n",
    "df_train_boston = pd.DataFrame(X_train_scaled)\n",
    "df_train_boston['train_target'] = y_train\n",
    "df_train_boston = df_train_boston.set_index('train_target')\n",
    "df_train_boston"
   ]
  },
  {
   "cell_type": "markdown",
   "metadata": {},
   "source": [
    "<br>\n",
    "\n",
    "이제 차수를 2로 하여 다항식 특성을 뽑는다. 해당 데이터는 기존에는 특성이 13개 였는데, 다항식 특성을 추가하여 105개까지 교차 특성으로 확장된 것을 확인할 수 있다. <u> 새로운 특성은 원래 특성의 제곱은 물론 가능한 두 특성의 조합을 모두 포함한다</u>. "
   ]
  },
  {
   "cell_type": "code",
   "execution_count": 119,
   "metadata": {
    "ExecuteTime": {
     "end_time": "2021-01-10T14:27:11.008535Z",
     "start_time": "2021-01-10T14:27:11.000534Z"
    }
   },
   "outputs": [
    {
     "name": "stdout",
     "output_type": "stream",
     "text": [
      "X_train.shape :  (379, 13)\n",
      "X_train_poly.shape :  (379, 105)\n",
      "\n",
      "다항 특성 이름 : \n",
      " ['1', 'x0', 'x1', 'x2', 'x3', 'x4', 'x5', 'x6', 'x7', 'x8', 'x9', 'x10', 'x11', 'x12', 'x0^2', 'x0 x1', 'x0 x2', 'x0 x3', 'x0 x4', 'x0 x5', 'x0 x6', 'x0 x7', 'x0 x8', 'x0 x9', 'x0 x10', 'x0 x11', 'x0 x12', 'x1^2', 'x1 x2', 'x1 x3', 'x1 x4', 'x1 x5', 'x1 x6', 'x1 x7', 'x1 x8', 'x1 x9', 'x1 x10', 'x1 x11', 'x1 x12', 'x2^2', 'x2 x3', 'x2 x4', 'x2 x5', 'x2 x6', 'x2 x7', 'x2 x8', 'x2 x9', 'x2 x10', 'x2 x11', 'x2 x12', 'x3^2', 'x3 x4', 'x3 x5', 'x3 x6', 'x3 x7', 'x3 x8', 'x3 x9', 'x3 x10', 'x3 x11', 'x3 x12', 'x4^2', 'x4 x5', 'x4 x6', 'x4 x7', 'x4 x8', 'x4 x9', 'x4 x10', 'x4 x11', 'x4 x12', 'x5^2', 'x5 x6', 'x5 x7', 'x5 x8', 'x5 x9', 'x5 x10', 'x5 x11', 'x5 x12', 'x6^2', 'x6 x7', 'x6 x8', 'x6 x9', 'x6 x10', 'x6 x11', 'x6 x12', 'x7^2', 'x7 x8', 'x7 x9', 'x7 x10', 'x7 x11', 'x7 x12', 'x8^2', 'x8 x9', 'x8 x10', 'x8 x11', 'x8 x12', 'x9^2', 'x9 x10', 'x9 x11', 'x9 x12', 'x10^2', 'x10 x11', 'x10 x12', 'x11^2', 'x11 x12', 'x12^2']\n"
     ]
    }
   ],
   "source": [
    "poly = PolynomialFeatures(degree=2).fit(X_train_scaled)\n",
    "X_train_poly = poly.transform(X_train_scaled)\n",
    "X_test_poly = poly.transform(X_test_scaled)\n",
    "\n",
    "print(\"X_train.shape : \", X_train.shape)\n",
    "print(\"X_train_poly.shape : \", X_train_poly.shape)\n",
    "print()\n",
    "print('다항 특성 이름 : \\n', poly.get_feature_names())"
   ]
  },
  {
   "cell_type": "markdown",
   "metadata": {},
   "source": [
    "<br>\n",
    "\n",
    "`상호작용 특성이 있는 데이터`와 `없는 데이터`에 대해 `Ridge`를 사용해 성능을 비교해보았을 때 상호작용 특성을 넣은 경우의 score가 높은 것을 확인할 수 있다."
   ]
  },
  {
   "cell_type": "code",
   "execution_count": 120,
   "metadata": {
    "ExecuteTime": {
     "end_time": "2021-01-10T14:37:25.929878Z",
     "start_time": "2021-01-10T14:37:25.913874Z"
    }
   },
   "outputs": [
    {
     "name": "stdout",
     "output_type": "stream",
     "text": [
      "상호작용 특성이 없을 때 점수: 0.577\n",
      "상호작용 특성이 있을 때 점수: 0.741\n"
     ]
    }
   ],
   "source": [
    "from sklearn.linear_model import Ridge\n",
    "ridge = Ridge().fit(X_train_scaled, y_train)\n",
    "print(\"상호작용 특성이 없을 때 점수: {:.3f}\".format(ridge.score(X_test_scaled, y_test)))\n",
    "ridge = Ridge().fit(X_train_poly, y_train)\n",
    "print(\"상호작용 특성이 있을 때 점수: {:.3f}\".format(ridge.score(X_test_poly, y_test)))"
   ]
  },
  {
   "cell_type": "markdown",
   "metadata": {},
   "source": [
    "<br>\n",
    "\n",
    "하지만, `랜덤 포레스트`와 같이 <u>복잡한 모델에서 </u>`상호작용`<u>을 사용하면 오히려 점수가 떨어지는 것</u>을 확인할 수 있다."
   ]
  },
  {
   "cell_type": "code",
   "execution_count": 121,
   "metadata": {
    "ExecuteTime": {
     "end_time": "2021-01-10T14:37:34.080930Z",
     "start_time": "2021-01-10T14:37:32.970680Z"
    }
   },
   "outputs": [
    {
     "name": "stdout",
     "output_type": "stream",
     "text": [
      "상호작용 특성이 없을 때 점수: 0.785\n",
      "상호작용 특성이 있을 때 점수: 0.761\n"
     ]
    }
   ],
   "source": [
    "from sklearn.ensemble import RandomForestRegressor\n",
    "rf = RandomForestRegressor(n_estimators=100, random_state=0).fit(X_train_scaled, y_train)\n",
    "print(\"상호작용 특성이 없을 때 점수: {:.3f}\".format(rf.score(X_test_scaled, y_test)))\n",
    "rf = RandomForestRegressor(n_estimators=100, random_state=0).fit(X_train_poly, y_train)\n",
    "print(\"상호작용 특성이 있을 때 점수: {:.3f}\".format(rf.score(X_test_poly, y_test)))"
   ]
  },
  {
   "cell_type": "markdown",
   "metadata": {},
   "source": [
    "<br>\n",
    "\n",
    "---\n",
    "\n",
    "### 5) References\n",
    "\n",
    "- 안드레아스 뮐러, 세라 가이도, 『파이썬 라이브러리를 활용한 머신러닝』, 박해선, 한빛미디어(2017)"
   ]
  }
 ],
 "metadata": {
  "kernelspec": {
   "display_name": "Python 3",
   "language": "python",
   "name": "python3"
  },
  "language_info": {
   "codemirror_mode": {
    "name": "ipython",
    "version": 3
   },
   "file_extension": ".py",
   "mimetype": "text/x-python",
   "name": "python",
   "nbconvert_exporter": "python",
   "pygments_lexer": "ipython3",
   "version": "3.7.7"
  },
  "toc": {
   "base_numbering": "",
   "nav_menu": {},
   "number_sections": false,
   "sideBar": true,
   "skip_h1_title": false,
   "title_cell": "Table of Contents",
   "title_sidebar": "Contents",
   "toc_cell": true,
   "toc_position": {
    "height": "calc(100% - 180px)",
    "left": "10px",
    "top": "150px",
    "width": "165px"
   },
   "toc_section_display": true,
   "toc_window_display": true
  }
 },
 "nbformat": 4,
 "nbformat_minor": 4
}
