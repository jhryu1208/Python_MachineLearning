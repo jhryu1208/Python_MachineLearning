{
 "cells": [
  {
   "cell_type": "markdown",
   "metadata": {},
   "source": [
    "## [ 지도 학습]\n",
    "---\n",
    "- `지도 학습(supervised learning)` : \n",
    "    - 주어진 입력으로부터 출력을 예측하고자 할 때 사용한다.\n",
    "    - 입력/출력 샘플 데이터, 즉 훈련 세트로부터 머신러닝 모델을 만든다.\n",
    "    - 종종 훈련 데이터를 만드는 데 사람의 노력이 필요하지만 자동화하면 힘들고 어려운 작업의 속도를 높일 수 있다.\n",
    "\n",
    "---\n",
    "### [ 1. 분류와 회귀 ]\n",
    "- `분류(classification)` : 미리 정의된, 가능성 있는 여러 `클래스 레이블(class label)`중 하나를 예측하는 것\n",
    "    - `이진 분류(binary classification)` : 두개의 클래스로 분류 (ex. yes/no)\n",
    "        - `양성(positive)` 클래스 : 학습하고자하는 대상 (ex. 스팸메일입니까? -> 스팸메일 클래스 = 양성)\n",
    "        - `음성(negative)` 클래스 : 나머지 \n",
    "    - `다중 분류(multiclass classification)` : 셋 이상의 클래스로 분류 (ex. 붓꽃, 웹사이트의 언어 예측)\n",
    "    \n",
    "    \n",
    "- `회귀(regression)` : 연속적인 숫자, 또는 `부동소수점수(실수)`를 예측하는 것 \n",
    "    - ex1. 어떤 사람의 교육 수준,나이,주거지로 연간 소득(숫자,양) 예측\n",
    "    - ex2. 옥수수 농장에서 전년도 수확량과 날씨, 고용 인원수등으로 올해 수확량(숫자)을 예측\n",
    "    - 예상 출력 값 사이에 연속성이 있다면 회귀 문제에 해당한다.\n",
    "\n",
    "---\n",
    "### [ 2. 일반화, 과대적합, 과소적합 ]"
   ]
  }
 ],
 "metadata": {
  "kernelspec": {
   "display_name": "Python 3",
   "language": "python",
   "name": "python3"
  },
  "language_info": {
   "codemirror_mode": {
    "name": "ipython",
    "version": 3
   },
   "file_extension": ".py",
   "mimetype": "text/x-python",
   "name": "python",
   "nbconvert_exporter": "python",
   "pygments_lexer": "ipython3",
   "version": "3.8.3"
  }
 },
 "nbformat": 4,
 "nbformat_minor": 4
}
